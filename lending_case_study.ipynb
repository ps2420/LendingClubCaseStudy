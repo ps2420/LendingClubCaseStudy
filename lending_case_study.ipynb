{
 "cells": [
  {
   "cell_type": "markdown",
   "metadata": {},
   "source": [
    "# Lending Case Study Data exploration"
   ]
  },
  {
   "cell_type": "code",
   "execution_count": 224,
   "metadata": {},
   "outputs": [],
   "source": [
    "#Load the libraries\n",
    "import pandas as pd #To work with dataset\n",
    "import numpy as np #Math library\n",
    "import seaborn as sns #Graph library that use matplot in background\n",
    "import matplotlib.pyplot as plt #to plot some parameters in seaborn\n",
    "import warnings\n",
    "warnings.filterwarnings(\"ignore\")"
   ]
  },
  {
   "cell_type": "code",
   "execution_count": 225,
   "metadata": {},
   "outputs": [
    {
     "data": {
      "text/html": [
       "<div>\n",
       "<style scoped>\n",
       "    .dataframe tbody tr th:only-of-type {\n",
       "        vertical-align: middle;\n",
       "    }\n",
       "\n",
       "    .dataframe tbody tr th {\n",
       "        vertical-align: top;\n",
       "    }\n",
       "\n",
       "    .dataframe thead th {\n",
       "        text-align: right;\n",
       "    }\n",
       "</style>\n",
       "<table border=\"1\" class=\"dataframe\">\n",
       "  <thead>\n",
       "    <tr style=\"text-align: right;\">\n",
       "      <th></th>\n",
       "      <th>id</th>\n",
       "      <th>member_id</th>\n",
       "      <th>loan_amnt</th>\n",
       "      <th>funded_amnt</th>\n",
       "      <th>funded_amnt_inv</th>\n",
       "      <th>term</th>\n",
       "      <th>int_rate</th>\n",
       "      <th>installment</th>\n",
       "      <th>grade</th>\n",
       "      <th>sub_grade</th>\n",
       "      <th>...</th>\n",
       "      <th>num_tl_90g_dpd_24m</th>\n",
       "      <th>num_tl_op_past_12m</th>\n",
       "      <th>pct_tl_nvr_dlq</th>\n",
       "      <th>percent_bc_gt_75</th>\n",
       "      <th>pub_rec_bankruptcies</th>\n",
       "      <th>tax_liens</th>\n",
       "      <th>tot_hi_cred_lim</th>\n",
       "      <th>total_bal_ex_mort</th>\n",
       "      <th>total_bc_limit</th>\n",
       "      <th>total_il_high_credit_limit</th>\n",
       "    </tr>\n",
       "  </thead>\n",
       "  <tbody>\n",
       "    <tr>\n",
       "      <th>0</th>\n",
       "      <td>1077501</td>\n",
       "      <td>1296599</td>\n",
       "      <td>5000</td>\n",
       "      <td>5000</td>\n",
       "      <td>4975.0</td>\n",
       "      <td>36 months</td>\n",
       "      <td>10.65%</td>\n",
       "      <td>162.87</td>\n",
       "      <td>B</td>\n",
       "      <td>B2</td>\n",
       "      <td>...</td>\n",
       "      <td>NaN</td>\n",
       "      <td>NaN</td>\n",
       "      <td>NaN</td>\n",
       "      <td>NaN</td>\n",
       "      <td>0.0</td>\n",
       "      <td>0.0</td>\n",
       "      <td>NaN</td>\n",
       "      <td>NaN</td>\n",
       "      <td>NaN</td>\n",
       "      <td>NaN</td>\n",
       "    </tr>\n",
       "    <tr>\n",
       "      <th>1</th>\n",
       "      <td>1077430</td>\n",
       "      <td>1314167</td>\n",
       "      <td>2500</td>\n",
       "      <td>2500</td>\n",
       "      <td>2500.0</td>\n",
       "      <td>60 months</td>\n",
       "      <td>15.27%</td>\n",
       "      <td>59.83</td>\n",
       "      <td>C</td>\n",
       "      <td>C4</td>\n",
       "      <td>...</td>\n",
       "      <td>NaN</td>\n",
       "      <td>NaN</td>\n",
       "      <td>NaN</td>\n",
       "      <td>NaN</td>\n",
       "      <td>0.0</td>\n",
       "      <td>0.0</td>\n",
       "      <td>NaN</td>\n",
       "      <td>NaN</td>\n",
       "      <td>NaN</td>\n",
       "      <td>NaN</td>\n",
       "    </tr>\n",
       "  </tbody>\n",
       "</table>\n",
       "<p>2 rows × 111 columns</p>\n",
       "</div>"
      ],
      "text/plain": [
       "        id  member_id  loan_amnt  funded_amnt  funded_amnt_inv        term  \\\n",
       "0  1077501    1296599       5000         5000           4975.0   36 months   \n",
       "1  1077430    1314167       2500         2500           2500.0   60 months   \n",
       "\n",
       "  int_rate  installment grade sub_grade  ... num_tl_90g_dpd_24m  \\\n",
       "0   10.65%       162.87     B        B2  ...                NaN   \n",
       "1   15.27%        59.83     C        C4  ...                NaN   \n",
       "\n",
       "  num_tl_op_past_12m pct_tl_nvr_dlq  percent_bc_gt_75 pub_rec_bankruptcies  \\\n",
       "0                NaN            NaN               NaN                  0.0   \n",
       "1                NaN            NaN               NaN                  0.0   \n",
       "\n",
       "  tax_liens tot_hi_cred_lim total_bal_ex_mort total_bc_limit  \\\n",
       "0       0.0             NaN               NaN            NaN   \n",
       "1       0.0             NaN               NaN            NaN   \n",
       "\n",
       "  total_il_high_credit_limit  \n",
       "0                        NaN  \n",
       "1                        NaN  \n",
       "\n",
       "[2 rows x 111 columns]"
      ]
     },
     "execution_count": 225,
     "metadata": {},
     "output_type": "execute_result"
    }
   ],
   "source": [
    "#Load the data and print few rows\n",
    "lending_case = pd.read_csv(\"/Users/nyashasingh/Desktop/upgrad/upgrad-case-studies-solutions/lending-case-study/loan.csv\")\n",
    "lending_case.head(2)"
   ]
  },
  {
   "cell_type": "code",
   "execution_count": 226,
   "metadata": {},
   "outputs": [
    {
     "name": "stdout",
     "output_type": "stream",
     "text": [
      "Rows and column ::  (39717, 111)\n"
     ]
    }
   ],
   "source": [
    "#Check number of rows and columns, validate columns with higher null values\n",
    "print(\"Rows and column :: \", lending_case.shape)"
   ]
  },
  {
   "cell_type": "markdown",
   "metadata": {},
   "source": [
    "## Data Cleaning, Fixing columns and rows\n",
    "1. Remove column with NA or NAN values and\n",
    "2. Remove rows having more than x% of column values with zero values or values not avaiable"
   ]
  },
  {
   "cell_type": "code",
   "execution_count": 227,
   "metadata": {},
   "outputs": [
    {
     "name": "stdout",
     "output_type": "stream",
     "text": [
      "Shape after dropping columns with all missing values ::  (39717, 57)\n"
     ]
    }
   ],
   "source": [
    "#check the columns with all the values and missing and drop them\n",
    "columns_to_drop = lending_case.columns[lending_case.isna().all()].tolist()\n",
    "lending_case = lending_case.drop(columns = columns_to_drop)\n",
    "print(\"Shape after dropping columns with all missing values :: \", lending_case.shape)"
   ]
  },
  {
   "cell_type": "markdown",
   "metadata": {},
   "source": [
    "#### Function to print missing values to be used  "
   ]
  },
  {
   "cell_type": "code",
   "execution_count": 228,
   "metadata": {},
   "outputs": [],
   "source": [
    "#Function to print data frame stats where columns has missing value greater than zero\n",
    "def print_columns_with_missing_value(df_table):\n",
    "    missing_values_column = df_table.isnull().sum().to_frame('missing_values')\n",
    "    print(missing_values_column[missing_values_column.missing_values > 0])"
   ]
  },
  {
   "cell_type": "code",
   "execution_count": 229,
   "metadata": {},
   "outputs": [
    {
     "name": "stdout",
     "output_type": "stream",
     "text": [
      "                            missing_values\n",
      "emp_title                             2459\n",
      "emp_length                            1075\n",
      "desc                                 12940\n",
      "title                                   11\n",
      "mths_since_last_delinq               25682\n",
      "mths_since_last_record               36931\n",
      "revol_util                              50\n",
      "last_pymnt_d                            71\n",
      "next_pymnt_d                         38577\n",
      "last_credit_pull_d                       2\n",
      "collections_12_mths_ex_med              56\n",
      "chargeoff_within_12_mths                56\n",
      "pub_rec_bankruptcies                   697\n",
      "tax_liens                               39\n"
     ]
    }
   ],
   "source": [
    "#check columns with missing values\n",
    "print_columns_with_missing_value(lending_case)  \n",
    "#Should we drop the columns blindly where it has more than 70% missing value, \n",
    "#blindly drop them#df[df.missing_values > len(lending_case.index) * 0.70]"
   ]
  },
  {
   "cell_type": "markdown",
   "metadata": {},
   "source": [
    "#### Drop column with missing rows and and of no importance"
   ]
  },
  {
   "cell_type": "code",
   "execution_count": 230,
   "metadata": {},
   "outputs": [
    {
     "name": "stdout",
     "output_type": "stream",
     "text": [
      "Shape after dropping additional columns ::  (39717, 53)\n",
      "Shape after dropping columns with no importance ::  (39717, 48)\n"
     ]
    }
   ],
   "source": [
    "#drop columns\n",
    "columns_to_drop = ['emp_title', 'mths_since_last_delinq', 'mths_since_last_record', 'next_pymnt_d']\n",
    "lending_case = lending_case.drop(columns = columns_to_drop)\n",
    "print(\"Shape after dropping additional columns :: \", lending_case.shape)\n",
    "\n",
    "#drop columns with no imp. Note: tax_liens is garbage columns\n",
    "columns_with_no_imp = ['member_id', 'url', 'desc', 'zip_code', 'tax_liens']\n",
    "lending_case = lending_case.drop(columns = columns_with_no_imp)\n",
    "print(\"Shape after dropping columns with no importance :: \", lending_case.shape)"
   ]
  },
  {
   "cell_type": "code",
   "execution_count": 231,
   "metadata": {},
   "outputs": [
    {
     "name": "stdout",
     "output_type": "stream",
     "text": [
      "                            missing_values\n",
      "emp_length                            1075\n",
      "title                                   11\n",
      "revol_util                              50\n",
      "last_pymnt_d                            71\n",
      "last_credit_pull_d                       2\n",
      "collections_12_mths_ex_med              56\n",
      "chargeoff_within_12_mths                56\n",
      "pub_rec_bankruptcies                   697\n"
     ]
    }
   ],
   "source": [
    "#check again columns with missing values\n",
    "print_columns_with_missing_value(lending_case)    "
   ]
  },
  {
   "cell_type": "code",
   "execution_count": 232,
   "metadata": {},
   "outputs": [
    {
     "name": "stdout",
     "output_type": "stream",
     "text": [
      "Shape after dropping columns with no importance ::  (39717, 45)\n"
     ]
    }
   ],
   "source": [
    "#Drop additional columns as its not needed, out purpose is determine before loan sactioned\n",
    "additional_colums_to_drop = ['collections_12_mths_ex_med', 'chargeoff_within_12_mths', 'delinq_amnt']\n",
    "lending_case = lending_case.drop(columns = additional_colums_to_drop)\n",
    "print(\"Shape after dropping columns with no importance :: \", lending_case.shape)"
   ]
  },
  {
   "cell_type": "code",
   "execution_count": 233,
   "metadata": {},
   "outputs": [
    {
     "data": {
      "text/plain": [
       "0"
      ]
     },
     "execution_count": 233,
     "metadata": {},
     "output_type": "execute_result"
    }
   ],
   "source": [
    "#emp_length column analysis\n",
    "lending_case['emp_length'].unique() #unique values\n",
    "lending_case['emp_length'].fillna('0', inplace = True)\n",
    "lending_case['emp_length'].isnull().sum()\n",
    "\n",
    "lending_case['pub_rec_bankruptcies'].unique() #unique values\n",
    "lending_case['pub_rec_bankruptcies'].fillna('Unknown', inplace = True)\n",
    "lending_case['pub_rec_bankruptcies'].isnull().sum()"
   ]
  },
  {
   "cell_type": "code",
   "execution_count": 234,
   "metadata": {},
   "outputs": [
    {
     "name": "stdout",
     "output_type": "stream",
     "text": [
      "                    missing_values\n",
      "title                           11\n",
      "revol_util                      50\n",
      "last_pymnt_d                    71\n",
      "last_credit_pull_d               2\n"
     ]
    }
   ],
   "source": [
    "#check columns with missing values again\n",
    "print_columns_with_missing_value(lending_case)"
   ]
  },
  {
   "cell_type": "markdown",
   "metadata": {},
   "source": [
    "### Change data type from object to respective values"
   ]
  },
  {
   "cell_type": "code",
   "execution_count": 235,
   "metadata": {},
   "outputs": [
    {
     "data": {
      "text/html": [
       "<div>\n",
       "<style scoped>\n",
       "    .dataframe tbody tr th:only-of-type {\n",
       "        vertical-align: middle;\n",
       "    }\n",
       "\n",
       "    .dataframe tbody tr th {\n",
       "        vertical-align: top;\n",
       "    }\n",
       "\n",
       "    .dataframe thead th {\n",
       "        text-align: right;\n",
       "    }\n",
       "</style>\n",
       "<table border=\"1\" class=\"dataframe\">\n",
       "  <thead>\n",
       "    <tr style=\"text-align: right;\">\n",
       "      <th></th>\n",
       "      <th>data_type</th>\n",
       "    </tr>\n",
       "  </thead>\n",
       "  <tbody>\n",
       "    <tr>\n",
       "      <th>term</th>\n",
       "      <td>object</td>\n",
       "    </tr>\n",
       "    <tr>\n",
       "      <th>int_rate</th>\n",
       "      <td>object</td>\n",
       "    </tr>\n",
       "    <tr>\n",
       "      <th>grade</th>\n",
       "      <td>object</td>\n",
       "    </tr>\n",
       "    <tr>\n",
       "      <th>sub_grade</th>\n",
       "      <td>object</td>\n",
       "    </tr>\n",
       "    <tr>\n",
       "      <th>emp_length</th>\n",
       "      <td>object</td>\n",
       "    </tr>\n",
       "    <tr>\n",
       "      <th>home_ownership</th>\n",
       "      <td>object</td>\n",
       "    </tr>\n",
       "    <tr>\n",
       "      <th>verification_status</th>\n",
       "      <td>object</td>\n",
       "    </tr>\n",
       "    <tr>\n",
       "      <th>issue_d</th>\n",
       "      <td>object</td>\n",
       "    </tr>\n",
       "    <tr>\n",
       "      <th>loan_status</th>\n",
       "      <td>object</td>\n",
       "    </tr>\n",
       "    <tr>\n",
       "      <th>pymnt_plan</th>\n",
       "      <td>object</td>\n",
       "    </tr>\n",
       "    <tr>\n",
       "      <th>purpose</th>\n",
       "      <td>object</td>\n",
       "    </tr>\n",
       "    <tr>\n",
       "      <th>title</th>\n",
       "      <td>object</td>\n",
       "    </tr>\n",
       "    <tr>\n",
       "      <th>addr_state</th>\n",
       "      <td>object</td>\n",
       "    </tr>\n",
       "    <tr>\n",
       "      <th>earliest_cr_line</th>\n",
       "      <td>object</td>\n",
       "    </tr>\n",
       "    <tr>\n",
       "      <th>revol_util</th>\n",
       "      <td>object</td>\n",
       "    </tr>\n",
       "    <tr>\n",
       "      <th>initial_list_status</th>\n",
       "      <td>object</td>\n",
       "    </tr>\n",
       "    <tr>\n",
       "      <th>last_pymnt_d</th>\n",
       "      <td>object</td>\n",
       "    </tr>\n",
       "    <tr>\n",
       "      <th>last_credit_pull_d</th>\n",
       "      <td>object</td>\n",
       "    </tr>\n",
       "    <tr>\n",
       "      <th>application_type</th>\n",
       "      <td>object</td>\n",
       "    </tr>\n",
       "    <tr>\n",
       "      <th>pub_rec_bankruptcies</th>\n",
       "      <td>object</td>\n",
       "    </tr>\n",
       "  </tbody>\n",
       "</table>\n",
       "</div>"
      ],
      "text/plain": [
       "                     data_type\n",
       "term                    object\n",
       "int_rate                object\n",
       "grade                   object\n",
       "sub_grade               object\n",
       "emp_length              object\n",
       "home_ownership          object\n",
       "verification_status     object\n",
       "issue_d                 object\n",
       "loan_status             object\n",
       "pymnt_plan              object\n",
       "purpose                 object\n",
       "title                   object\n",
       "addr_state              object\n",
       "earliest_cr_line        object\n",
       "revol_util              object\n",
       "initial_list_status     object\n",
       "last_pymnt_d            object\n",
       "last_credit_pull_d      object\n",
       "application_type        object\n",
       "pub_rec_bankruptcies    object"
      ]
     },
     "execution_count": 235,
     "metadata": {},
     "output_type": "execute_result"
    }
   ],
   "source": [
    "#Analyze columsn with data type 'object' and fix data type\n",
    "data_type_df = lending_case.dtypes.to_frame('data_type')\n",
    "data_type_df [(data_type_df.data_type.isin(['object']))]"
   ]
  },
  {
   "cell_type": "code",
   "execution_count": 236,
   "metadata": {
    "scrolled": true
   },
   "outputs": [
    {
     "name": "stdout",
     "output_type": "stream",
     "text": [
      "Index(['id', 'loan_amnt', 'funded_amnt', 'funded_amnt_inv', 'term', 'int_rate',\n",
      "       'installment', 'grade', 'sub_grade', 'emp_length', 'home_ownership',\n",
      "       'annual_inc', 'verification_status', 'issue_d', 'loan_status',\n",
      "       'pymnt_plan', 'purpose', 'title', 'addr_state', 'dti', 'delinq_2yrs',\n",
      "       'earliest_cr_line', 'inq_last_6mths', 'open_acc', 'pub_rec',\n",
      "       'revol_bal', 'revol_util', 'total_acc', 'initial_list_status',\n",
      "       'out_prncp', 'out_prncp_inv', 'total_pymnt', 'total_pymnt_inv',\n",
      "       'total_rec_prncp', 'total_rec_int', 'total_rec_late_fee', 'recoveries',\n",
      "       'collection_recovery_fee', 'last_pymnt_d', 'last_pymnt_amnt',\n",
      "       'last_credit_pull_d', 'policy_code', 'application_type',\n",
      "       'acc_now_delinq', 'pub_rec_bankruptcies'],\n",
      "      dtype='object')\n"
     ]
    },
    {
     "data": {
      "text/html": [
       "<div>\n",
       "<style scoped>\n",
       "    .dataframe tbody tr th:only-of-type {\n",
       "        vertical-align: middle;\n",
       "    }\n",
       "\n",
       "    .dataframe tbody tr th {\n",
       "        vertical-align: top;\n",
       "    }\n",
       "\n",
       "    .dataframe thead th {\n",
       "        text-align: right;\n",
       "    }\n",
       "</style>\n",
       "<table border=\"1\" class=\"dataframe\">\n",
       "  <thead>\n",
       "    <tr style=\"text-align: right;\">\n",
       "      <th></th>\n",
       "      <th>id</th>\n",
       "      <th>loan_amnt</th>\n",
       "      <th>funded_amnt</th>\n",
       "      <th>funded_amnt_inv</th>\n",
       "      <th>term</th>\n",
       "      <th>int_rate</th>\n",
       "      <th>installment</th>\n",
       "      <th>grade</th>\n",
       "      <th>sub_grade</th>\n",
       "      <th>emp_length</th>\n",
       "      <th>...</th>\n",
       "      <th>total_rec_late_fee</th>\n",
       "      <th>recoveries</th>\n",
       "      <th>collection_recovery_fee</th>\n",
       "      <th>last_pymnt_d</th>\n",
       "      <th>last_pymnt_amnt</th>\n",
       "      <th>last_credit_pull_d</th>\n",
       "      <th>policy_code</th>\n",
       "      <th>application_type</th>\n",
       "      <th>acc_now_delinq</th>\n",
       "      <th>pub_rec_bankruptcies</th>\n",
       "    </tr>\n",
       "  </thead>\n",
       "  <tbody>\n",
       "    <tr>\n",
       "      <th>0</th>\n",
       "      <td>1077501</td>\n",
       "      <td>5000</td>\n",
       "      <td>5000</td>\n",
       "      <td>4975.0</td>\n",
       "      <td>36 months</td>\n",
       "      <td>10.65%</td>\n",
       "      <td>162.87</td>\n",
       "      <td>B</td>\n",
       "      <td>B2</td>\n",
       "      <td>10+ years</td>\n",
       "      <td>...</td>\n",
       "      <td>0.0</td>\n",
       "      <td>0.00</td>\n",
       "      <td>0.00</td>\n",
       "      <td>Jan-15</td>\n",
       "      <td>171.62</td>\n",
       "      <td>May-16</td>\n",
       "      <td>1</td>\n",
       "      <td>INDIVIDUAL</td>\n",
       "      <td>0</td>\n",
       "      <td>0</td>\n",
       "    </tr>\n",
       "    <tr>\n",
       "      <th>1</th>\n",
       "      <td>1077430</td>\n",
       "      <td>2500</td>\n",
       "      <td>2500</td>\n",
       "      <td>2500.0</td>\n",
       "      <td>60 months</td>\n",
       "      <td>15.27%</td>\n",
       "      <td>59.83</td>\n",
       "      <td>C</td>\n",
       "      <td>C4</td>\n",
       "      <td>&lt; 1 year</td>\n",
       "      <td>...</td>\n",
       "      <td>0.0</td>\n",
       "      <td>117.08</td>\n",
       "      <td>1.11</td>\n",
       "      <td>Apr-13</td>\n",
       "      <td>119.66</td>\n",
       "      <td>Sep-13</td>\n",
       "      <td>1</td>\n",
       "      <td>INDIVIDUAL</td>\n",
       "      <td>0</td>\n",
       "      <td>0</td>\n",
       "    </tr>\n",
       "  </tbody>\n",
       "</table>\n",
       "<p>2 rows × 45 columns</p>\n",
       "</div>"
      ],
      "text/plain": [
       "        id  loan_amnt  funded_amnt  funded_amnt_inv        term int_rate  \\\n",
       "0  1077501       5000         5000           4975.0   36 months   10.65%   \n",
       "1  1077430       2500         2500           2500.0   60 months   15.27%   \n",
       "\n",
       "   installment grade sub_grade emp_length  ... total_rec_late_fee  recoveries  \\\n",
       "0       162.87     B        B2  10+ years  ...                0.0        0.00   \n",
       "1        59.83     C        C4   < 1 year  ...                0.0      117.08   \n",
       "\n",
       "  collection_recovery_fee last_pymnt_d last_pymnt_amnt last_credit_pull_d  \\\n",
       "0                    0.00       Jan-15          171.62             May-16   \n",
       "1                    1.11       Apr-13          119.66             Sep-13   \n",
       "\n",
       "  policy_code application_type acc_now_delinq  pub_rec_bankruptcies  \n",
       "0           1       INDIVIDUAL              0                     0  \n",
       "1           1       INDIVIDUAL              0                     0  \n",
       "\n",
       "[2 rows x 45 columns]"
      ]
     },
     "execution_count": 236,
     "metadata": {},
     "output_type": "execute_result"
    }
   ],
   "source": [
    "#analyze the columns, glance what data they have before changing\n",
    "print(lending_case.columns)\n",
    "lending_case.head(2)"
   ]
  },
  {
   "cell_type": "code",
   "execution_count": 237,
   "metadata": {},
   "outputs": [],
   "source": [
    "#print(lending_case['int_rate'].head(2))\n",
    "#print(lending_case['emp_length'].head(2))\n",
    "\n",
    "#remove % sign and replace non numeric values from columns\n",
    "lending_case['int_rate'] = lending_case['int_rate'].str.replace('[%]', '')\n",
    "lending_case['emp_length'] = lending_case['emp_length'].str.replace('[^0-9]+', '')\n",
    "\n",
    "columns_to_float_dtype = ['int_rate', 'emp_length']\n",
    "lending_case[columns_to_float_dtype] = lending_case[columns_to_float_dtype].apply(pd.to_numeric)"
   ]
  },
  {
   "cell_type": "code",
   "execution_count": 238,
   "metadata": {
    "scrolled": true
   },
   "outputs": [
    {
     "name": "stdout",
     "output_type": "stream",
     "text": [
      "                     data_type\n",
      "term                    object\n",
      "grade                   object\n",
      "sub_grade               object\n",
      "home_ownership          object\n",
      "verification_status     object\n",
      "issue_d                 object\n",
      "loan_status             object\n",
      "pymnt_plan              object\n",
      "purpose                 object\n",
      "title                   object\n",
      "addr_state              object\n",
      "earliest_cr_line        object\n",
      "revol_util              object\n",
      "initial_list_status     object\n",
      "last_pymnt_d            object\n",
      "last_credit_pull_d      object\n",
      "application_type        object\n",
      "pub_rec_bankruptcies    object\n"
     ]
    }
   ],
   "source": [
    "#Analyze columsn with data type object and fix data type\n",
    "data_type_df = lending_case.dtypes.to_frame('data_type')\n",
    "data_type_df = data_type_df[(data_type_df.data_type.isin(['object']))]\n",
    "print(data_type_df)"
   ]
  },
  {
   "cell_type": "markdown",
   "metadata": {},
   "source": [
    "### Derive the columns for analysis\n",
    "extract the year and month as it may be beneficial when the users are applying more the loan\n",
    "pd.to_datetime throws an exception, ttps://www.dataindependent.com/pandas/pandas-to-datetime/ use format function"
   ]
  },
  {
   "cell_type": "code",
   "execution_count": 239,
   "metadata": {},
   "outputs": [],
   "source": [
    "#pd.to_datetime(lending_case['issue_d'], format=\"%b-%y\").dt.year\n",
    "lending_case['issue_d'] = pd.to_datetime(lending_case['issue_d'], format=\"%b-%y\")\n",
    "lending_case['issue_d_year'] = lending_case['issue_d'].dt.year\n",
    "lending_case['issue_d_month'] = lending_case['issue_d'].dt.month"
   ]
  },
  {
   "cell_type": "code",
   "execution_count": 240,
   "metadata": {},
   "outputs": [
    {
     "name": "stdout",
     "output_type": "stream",
     "text": [
      "     issue_d  issue_d_year  issue_d_month\n",
      "0 2011-12-01          2011             12\n",
      "1 2011-12-01          2011             12\n",
      "datetime64[ns]\n"
     ]
    }
   ],
   "source": [
    "print(lending_case[['issue_d', 'issue_d_year', 'issue_d_month']].head(2))\n",
    "print(lending_case['issue_d'].dtypes)"
   ]
  },
  {
   "cell_type": "markdown",
   "metadata": {},
   "source": [
    "### Filter the rows where funded_amnt is greater than loan_amnt and funded_amnt_inv < funded_amnt"
   ]
  },
  {
   "cell_type": "code",
   "execution_count": 241,
   "metadata": {},
   "outputs": [
    {
     "name": "stdout",
     "output_type": "stream",
     "text": [
      "length before filtering :: 39717\n",
      "length after filtering :: 37868\n"
     ]
    }
   ],
   "source": [
    "### Safety check for ex. loan_amnt < funded_amnt and funded_amnt < funded_amnt_inv\n",
    "print(\"length before filtering ::\", len(lending_case))\n",
    "lending_case = lending_case[(lending_case['loan_amnt'] <= lending_case['funded_amnt']) & (lending_case['funded_amnt_inv'] <= lending_case['funded_amnt'])]\n",
    "print(\"length after filtering ::\", len(lending_case)) "
   ]
  },
  {
   "cell_type": "markdown",
   "metadata": {},
   "source": [
    "### Skipping the deduplicaiton part in our analysis, data seems to be extracted from a system and very cleaned"
   ]
  },
  {
   "cell_type": "markdown",
   "metadata": {},
   "source": [
    "# Univariate analysis (Summary)\n",
    "   1. Loan status : Out of all the loans 14% are defaulted\n",
    "   2. Purpose in defaulted loan : debit_consolidation, credit_card, other, small_business & home improvement contributes more than anyone else\n",
    "   3. Home ownership : Rent and Mortgage contributes more in defaulted loans\n",
    "   4. Interest rate : approx 0.2% are in outlier \n",
    "   5. Annual income: 10% are in outlier\n",
    "   6. Loan amount : loan & funded amount are similar funded amount can be ignored later\n",
    "   7. Funded amount : will be ignored as distribution is similar to loan & amount\n",
    "   8. issue_d & derived variable analysis: loans are issued more in dec month"
   ]
  },
  {
   "cell_type": "code",
   "execution_count": 242,
   "metadata": {},
   "outputs": [
    {
     "data": {
      "text/plain": [
       "Index(['id', 'loan_amnt', 'funded_amnt', 'funded_amnt_inv', 'term', 'int_rate',\n",
       "       'installment', 'grade', 'sub_grade', 'emp_length', 'home_ownership',\n",
       "       'annual_inc', 'verification_status', 'issue_d', 'loan_status',\n",
       "       'pymnt_plan', 'purpose', 'title', 'addr_state', 'dti', 'delinq_2yrs',\n",
       "       'earliest_cr_line', 'inq_last_6mths', 'open_acc', 'pub_rec',\n",
       "       'revol_bal', 'revol_util', 'total_acc', 'initial_list_status',\n",
       "       'out_prncp', 'out_prncp_inv', 'total_pymnt', 'total_pymnt_inv',\n",
       "       'total_rec_prncp', 'total_rec_int', 'total_rec_late_fee', 'recoveries',\n",
       "       'collection_recovery_fee', 'last_pymnt_d', 'last_pymnt_amnt',\n",
       "       'last_credit_pull_d', 'policy_code', 'application_type',\n",
       "       'acc_now_delinq', 'pub_rec_bankruptcies', 'issue_d_year',\n",
       "       'issue_d_month'],\n",
       "      dtype='object')"
      ]
     },
     "execution_count": 242,
     "metadata": {},
     "output_type": "execute_result"
    }
   ],
   "source": [
    "#print columns before analyzing the values\n",
    "lending_case.columns"
   ]
  },
  {
   "cell_type": "markdown",
   "metadata": {},
   "source": [
    "#### Categorical variable loan_status analysis"
   ]
  },
  {
   "cell_type": "code",
   "execution_count": 243,
   "metadata": {},
   "outputs": [
    {
     "data": {
      "image/png": "[encoded data removed]",
      "text/plain": [
       "<Figure size 720x432 with 1 Axes>"
      ]
     },
     "metadata": {},
     "output_type": "display_data"
    }
   ],
   "source": [
    "# pie chart function\n",
    "def print_pie_chart (title, pie_chart_df):\n",
    "    pie, ax = plt.subplots(figsize=[10,6])\n",
    "    labels  = pie_chart_df.keys()\n",
    "    plt.pie(x = pie_chart_df, autopct=\"%.1f%%\", labels=labels, pctdistance=0.5, \n",
    "            wedgeprops={'linewidth': 3.0, 'edgecolor': 'white'}, textprops={'size': 'x-large'})\n",
    "    plt.title(title, fontsize=20)\n",
    "    \n",
    "#Check the loan status i.e. how many loans were paid\n",
    "loan_status_pie_chart = round((lending_case['loan_status'].value_counts()/len(lending_case))*100, 2)\n",
    "print_pie_chart('Loan sanctioned status in %', loan_status_pie_chart)    "
   ]
  },
  {
   "cell_type": "markdown",
   "metadata": {},
   "source": [
    "#### Categorical variable \"Purpose\" analysis who defaulted"
   ]
  },
  {
   "cell_type": "code",
   "execution_count": 244,
   "metadata": {
    "scrolled": true
   },
   "outputs": [
    {
     "data": {
      "text/plain": [
       "<matplotlib.axes._subplots.AxesSubplot at 0x7fad89789f90>"
      ]
     },
     "execution_count": 244,
     "metadata": {},
     "output_type": "execute_result"
    },
    {
     "data": {
      "image/png": "[encoded data removed]",
      "text/plain": [
       "<Figure size 432x288 with 1 Axes>"
      ]
     },
     "metadata": {},
     "output_type": "display_data"
    }
   ],
   "source": [
    "\n",
    "#round((lending_case.groupby(['loan_status']) ['purpose'].value_counts()/len(lending_case))*100, 2)\n",
    "charged_off_loans = lending_case[(lending_case['loan_status'] == 'Charged Off')]\n",
    "charged_off_loans['purpose'].value_counts().plot.bar() \n",
    "#charged_off_loans['purpose'].value_counts()"
   ]
  },
  {
   "cell_type": "markdown",
   "metadata": {},
   "source": [
    "#### Further analysis with respective to each purpose\n",
    " Find out how many defaulted in each of the category\n",
    " Observation: debit_consolidation, credit_card, other, small_business & home improvementcontributes more than anyone else"
   ]
  },
  {
   "cell_type": "code",
   "execution_count": 245,
   "metadata": {},
   "outputs": [
    {
     "data": {
      "text/plain": [
       "<matplotlib.axes._subplots.AxesSubplot at 0x7fad729a8a10>"
      ]
     },
     "execution_count": 245,
     "metadata": {},
     "output_type": "execute_result"
    },
    {
     "data": {
      "image/png": "[encoded data removed]",
      "text/plain": [
       "<Figure size 864x576 with 1 Axes>"
      ]
     },
     "metadata": {},
     "output_type": "display_data"
    }
   ],
   "source": [
    "plt.figure(figsize=[12,8])\n",
    "sns.countplot(y = \"purpose\", hue=\"loan_status\", data = lending_case)"
   ]
  },
  {
   "cell_type": "markdown",
   "metadata": {},
   "source": [
    "#### Categocial variable \"Home ownership\" analysis\n",
    " Observation: RENT & MORTAGE contributes alot for defaulted loans"
   ]
  },
  {
   "cell_type": "code",
   "execution_count": 246,
   "metadata": {},
   "outputs": [
    {
     "name": "stdout",
     "output_type": "stream",
     "text": [
      "home_ownership  loan_status\n",
      "MORTGAGE        Fully Paid     13905\n",
      "                Charged Off     2145\n",
      "                Current          577\n",
      "NONE            Fully Paid         3\n",
      "OTHER           Fully Paid        73\n",
      "                Charged Off       15\n",
      "OWN             Fully Paid      2441\n",
      "                Charged Off      424\n",
      "                Current           81\n",
      "RENT            Fully Paid     15091\n",
      "                Charged Off     2723\n",
      "                Current          390\n",
      "Name: loan_status, dtype: int64\n"
     ]
    },
    {
     "data": {
      "text/plain": [
       "<matplotlib.axes._subplots.AxesSubplot at 0x7fad72976290>"
      ]
     },
     "execution_count": 246,
     "metadata": {},
     "output_type": "execute_result"
    },
    {
     "data": {
      "image/png": "[encoded data removed]",
      "text/plain": [
       "<Figure size 720x432 with 1 Axes>"
      ]
     },
     "metadata": {},
     "output_type": "display_data"
    }
   ],
   "source": [
    "print(lending_case.groupby(['home_ownership'])['loan_status'].value_counts())\n",
    "plt.figure(figsize=[10,6])\n",
    "sns.countplot(x = \"home_ownership\", hue=\"loan_status\", data =lending_case)"
   ]
  },
  {
   "cell_type": "markdown",
   "metadata": {},
   "source": [
    "### Analysis of quantifier variables.\n",
    "  loan_amount: funded_amnt will be after approving the loan but before analyzing check the avg.\n",
    "  interest_rate : analysis box blot\n",
    "  annual_inc: annual income analysis\n",
    "  tenure: As the loan applied for specific duration adn unique() function shows only two lets skip it for now"
   ]
  },
  {
   "cell_type": "markdown",
   "metadata": {},
   "source": [
    "#### Interest rate analysis\n",
    "we can ignore outliers, use quantile to ignore the percentage column"
   ]
  },
  {
   "cell_type": "code",
   "execution_count": 247,
   "metadata": {},
   "outputs": [
    {
     "name": "stdout",
     "output_type": "stream",
     "text": [
      "count    37868.000000\n",
      "mean        12.015777\n",
      "std          3.693572\n",
      "min          5.420000\n",
      "25%          9.250000\n",
      "50%         11.860000\n",
      "75%         14.540000\n",
      "max         24.400000\n",
      "Name: int_rate, dtype: float64\n"
     ]
    },
    {
     "data": {
      "text/plain": [
       "<matplotlib.axes._subplots.AxesSubplot at 0x7fad71fa8690>"
      ]
     },
     "execution_count": 247,
     "metadata": {},
     "output_type": "execute_result"
    },
    {
     "data": {
      "image/png": "[encoded data removed]",
      "text/plain": [
       "<Figure size 432x288 with 1 Axes>"
      ]
     },
     "metadata": {},
     "output_type": "display_data"
    }
   ],
   "source": [
    "#interest_rate analysis, \n",
    "print(lending_case['int_rate'].describe())\n",
    "lending_case['int_rate'].plot.box()\n",
    "#99% of people are getting interest rate < 20.00 , lending_case['int_rate'].quantile(0.99), we should ignore the rest"
   ]
  },
  {
   "cell_type": "markdown",
   "metadata": {},
   "source": [
    "#### loan_amount analysis"
   ]
  },
  {
   "cell_type": "code",
   "execution_count": 248,
   "metadata": {},
   "outputs": [
    {
     "name": "stdout",
     "output_type": "stream",
     "text": [
      "count    37868.000000\n",
      "mean     10844.408207\n",
      "std       7229.445777\n",
      "min        500.000000\n",
      "25%       5000.000000\n",
      "50%       9500.000000\n",
      "75%      15000.000000\n",
      "max      35000.000000\n",
      "Name: loan_amnt, dtype: float64\n"
     ]
    },
    {
     "data": {
      "text/plain": [
       "<matplotlib.axes._subplots.AxesSubplot at 0x7fad71ec97d0>"
      ]
     },
     "execution_count": 248,
     "metadata": {},
     "output_type": "execute_result"
    },
    {
     "data": {
      "image/png": "[encoded data removed]",
      "text/plain": [
       "<Figure size 432x288 with 1 Axes>"
      ]
     },
     "metadata": {},
     "output_type": "display_data"
    }
   ],
   "source": [
    "print(lending_case['loan_amnt'].describe())\n",
    "lending_case['loan_amnt'].plot.box()\n",
    "#95% of people are less than within limit <= 25000.0 lending_case['loan_amnt'].quantile(0.95)"
   ]
  },
  {
   "cell_type": "markdown",
   "metadata": {},
   "source": [
    "#### Annual_income analysis"
   ]
  },
  {
   "cell_type": "code",
   "execution_count": 249,
   "metadata": {},
   "outputs": [
    {
     "name": "stdout",
     "output_type": "stream",
     "text": [
      "count    3.786800e+04\n",
      "mean     6.821043e+04\n",
      "std      6.121633e+04\n",
      "min      4.000000e+03\n",
      "25%      4.000000e+04\n",
      "50%      5.800000e+04\n",
      "75%      8.100000e+04\n",
      "max      6.000000e+06\n",
      "Name: annual_inc, dtype: float64\n"
     ]
    },
    {
     "data": {
      "text/plain": [
       "<matplotlib.axes._subplots.AxesSubplot at 0x7fad71ec1c50>"
      ]
     },
     "execution_count": 249,
     "metadata": {},
     "output_type": "execute_result"
    },
    {
     "data": {
      "image/png": "[encoded data removed]",
      "text/plain": [
       "<Figure size 432x288 with 1 Axes>"
      ]
     },
     "metadata": {},
     "output_type": "display_data"
    }
   ],
   "source": [
    "print(lending_case['annual_inc'].describe())\n",
    "lending_case['annual_inc'].plot.box()"
   ]
  },
  {
   "cell_type": "code",
   "execution_count": 250,
   "metadata": {},
   "outputs": [
    {
     "data": {
      "text/plain": [
       "<matplotlib.axes._subplots.AxesSubplot at 0x7fad739962d0>"
      ]
     },
     "execution_count": 250,
     "metadata": {},
     "output_type": "execute_result"
    },
    {
     "data": {
      "image/png": "[encoded data removed]",
      "text/plain": [
       "<Figure size 432x288 with 1 Axes>"
      ]
     },
     "metadata": {},
     "output_type": "display_data"
    }
   ],
   "source": [
    "#90% of the people not outliers only top 10% of the people are, we can ignore the top people after checking if they are defaulted\n",
    "lending_case[(lending_case['annual_inc'] < lending_case['annual_inc'].quantile(0.90))]['annual_inc'].plot.box()"
   ]
  },
  {
   "cell_type": "markdown",
   "metadata": {},
   "source": [
    "#### Loan amount, funded_amnt & funded_amnt_inv analysis\n",
    "   Distributions are same it means only one of them can be used, we can use loan_amnt for our analysis"
   ]
  },
  {
   "cell_type": "code",
   "execution_count": 251,
   "metadata": {},
   "outputs": [
    {
     "data": {
      "image/png": "[encoded data removed]",
      "text/plain": [
       "<Figure size 432x288 with 3 Axes>"
      ]
     },
     "metadata": {},
     "output_type": "display_data"
    }
   ],
   "source": [
    "fig, ax =plt.subplots(1,3)\n",
    "loan_amnt = lending_case[(lending_case['loan_amnt'] < lending_case['loan_amnt'].quantile(0.95))]\n",
    "sns.distplot(annula_inc['loan_amnt'], bins = 20, ax=ax[0])\n",
    "\n",
    "funded_amnt = lending_case[(lending_case['funded_amnt'] < lending_case['funded_amnt'].quantile(0.95))]\n",
    "sns.distplot(funded_amnt['funded_amnt'], bins = 20, ax=ax[1])\n",
    "\n",
    "funded_amnt_inv = lending_case[(lending_case['funded_amnt_inv'] < lending_case['funded_amnt_inv'].quantile(0.95))]\n",
    "sns.distplot(funded_amnt_inv['funded_amnt_inv'], bins = 20, ax=ax[2])\n",
    "\n",
    "plt.show()\n"
   ]
  },
  {
   "cell_type": "markdown",
   "metadata": {},
   "source": [
    "#### Loan paying term analysis\n",
    "Charged off loans are same in both 36 & 60 months, and number of Full Paid applicants are more in 36 months"
   ]
  },
  {
   "cell_type": "code",
   "execution_count": 252,
   "metadata": {},
   "outputs": [
    {
     "data": {
      "text/plain": [
       "<matplotlib.axes._subplots.AxesSubplot at 0x7fad72f9d6d0>"
      ]
     },
     "execution_count": 252,
     "metadata": {},
     "output_type": "execute_result"
    },
    {
     "data": {
      "image/png": "[encoded data removed]",
      "text/plain": [
       "<Figure size 720x432 with 1 Axes>"
      ]
     },
     "metadata": {},
     "output_type": "display_data"
    }
   ],
   "source": [
    "plt.figure(figsize=[10,6])\n",
    "sns.countplot(x = \"term\", hue=\"loan_status\", data =lending_case)"
   ]
  },
  {
   "cell_type": "markdown",
   "metadata": {},
   "source": [
    "#### Categorical variable issue_d analysis"
   ]
  },
  {
   "cell_type": "code",
   "execution_count": 253,
   "metadata": {},
   "outputs": [
    {
     "data": {
      "text/plain": [
       "<matplotlib.axes._subplots.AxesSubplot at 0x7fad725c1610>"
      ]
     },
     "execution_count": 253,
     "metadata": {},
     "output_type": "execute_result"
    },
    {
     "data": {
      "image/png": "[encoded data removed]",
      "text/plain": [
       "<Figure size 1080x1080 with 1 Axes>"
      ]
     },
     "metadata": {},
     "output_type": "display_data"
    }
   ],
   "source": [
    "plt.figure(figsize=[15,15])\n",
    "sns.countplot(y = \"issue_d\", hue=\"loan_status\", data =lending_case)"
   ]
  },
  {
   "cell_type": "markdown",
   "metadata": {},
   "source": [
    "#### Categorical variable (derived) issue_d_month analysis\n",
    "Almost all the months contributes equally and december is the most, one of the reason could be people take higher loans in that month because income tax document submission starts in dec"
   ]
  },
  {
   "cell_type": "code",
   "execution_count": 254,
   "metadata": {},
   "outputs": [
    {
     "data": {
      "text/plain": [
       "<matplotlib.axes._subplots.AxesSubplot at 0x7fad75063910>"
      ]
     },
     "execution_count": 254,
     "metadata": {},
     "output_type": "execute_result"
    },
    {
     "data": {
      "image/png": "[encoded data removed]",
      "text/plain": [
       "<Figure size 1080x576 with 1 Axes>"
      ]
     },
     "metadata": {},
     "output_type": "display_data"
    }
   ],
   "source": [
    "plt.figure(figsize=[12,8])\n",
    "sns.countplot(y = \"issue_d_month\", hue=\"loan_status\", data =lending_case)"
   ]
  },
  {
   "cell_type": "markdown",
   "metadata": {},
   "source": [
    "### Find the relation between variables before proceeding further"
   ]
  },
  {
   "cell_type": "code",
   "execution_count": 255,
   "metadata": {},
   "outputs": [
    {
     "data": {
      "text/html": [
       "<div>\n",
       "<style scoped>\n",
       "    .dataframe tbody tr th:only-of-type {\n",
       "        vertical-align: middle;\n",
       "    }\n",
       "\n",
       "    .dataframe tbody tr th {\n",
       "        vertical-align: top;\n",
       "    }\n",
       "\n",
       "    .dataframe thead th {\n",
       "        text-align: right;\n",
       "    }\n",
       "</style>\n",
       "<table border=\"1\" class=\"dataframe\">\n",
       "  <thead>\n",
       "    <tr style=\"text-align: right;\">\n",
       "      <th></th>\n",
       "      <th>id</th>\n",
       "      <th>loan_amnt</th>\n",
       "      <th>funded_amnt</th>\n",
       "      <th>funded_amnt_inv</th>\n",
       "      <th>int_rate</th>\n",
       "      <th>installment</th>\n",
       "      <th>emp_length</th>\n",
       "      <th>annual_inc</th>\n",
       "      <th>dti</th>\n",
       "      <th>delinq_2yrs</th>\n",
       "      <th>...</th>\n",
       "      <th>total_rec_prncp</th>\n",
       "      <th>total_rec_int</th>\n",
       "      <th>total_rec_late_fee</th>\n",
       "      <th>recoveries</th>\n",
       "      <th>collection_recovery_fee</th>\n",
       "      <th>last_pymnt_amnt</th>\n",
       "      <th>policy_code</th>\n",
       "      <th>acc_now_delinq</th>\n",
       "      <th>issue_d_year</th>\n",
       "      <th>issue_d_month</th>\n",
       "    </tr>\n",
       "  </thead>\n",
       "  <tbody>\n",
       "    <tr>\n",
       "      <th>id</th>\n",
       "      <td>1.000000</td>\n",
       "      <td>0.143636</td>\n",
       "      <td>0.143636</td>\n",
       "      <td>0.239313</td>\n",
       "      <td>0.068306</td>\n",
       "      <td>0.077759</td>\n",
       "      <td>0.094929</td>\n",
       "      <td>0.010192</td>\n",
       "      <td>0.097398</td>\n",
       "      <td>-0.009397</td>\n",
       "      <td>...</td>\n",
       "      <td>0.105434</td>\n",
       "      <td>0.166968</td>\n",
       "      <td>-0.056380</td>\n",
       "      <td>0.033464</td>\n",
       "      <td>-0.012862</td>\n",
       "      <td>0.117967</td>\n",
       "      <td>NaN</td>\n",
       "      <td>NaN</td>\n",
       "      <td>0.844713</td>\n",
       "      <td>0.413170</td>\n",
       "    </tr>\n",
       "    <tr>\n",
       "      <th>loan_amnt</th>\n",
       "      <td>0.143636</td>\n",
       "      <td>1.000000</td>\n",
       "      <td>1.000000</td>\n",
       "      <td>0.958694</td>\n",
       "      <td>0.304068</td>\n",
       "      <td>0.958080</td>\n",
       "      <td>0.159974</td>\n",
       "      <td>0.275606</td>\n",
       "      <td>0.066441</td>\n",
       "      <td>-0.033849</td>\n",
       "      <td>...</td>\n",
       "      <td>0.874690</td>\n",
       "      <td>0.740349</td>\n",
       "      <td>0.046174</td>\n",
       "      <td>0.137571</td>\n",
       "      <td>0.075793</td>\n",
       "      <td>0.454970</td>\n",
       "      <td>NaN</td>\n",
       "      <td>NaN</td>\n",
       "      <td>0.119171</td>\n",
       "      <td>0.057372</td>\n",
       "    </tr>\n",
       "    <tr>\n",
       "      <th>funded_amnt</th>\n",
       "      <td>0.143636</td>\n",
       "      <td>1.000000</td>\n",
       "      <td>1.000000</td>\n",
       "      <td>0.958694</td>\n",
       "      <td>0.304068</td>\n",
       "      <td>0.958080</td>\n",
       "      <td>0.159974</td>\n",
       "      <td>0.275606</td>\n",
       "      <td>0.066441</td>\n",
       "      <td>-0.033849</td>\n",
       "      <td>...</td>\n",
       "      <td>0.874690</td>\n",
       "      <td>0.740349</td>\n",
       "      <td>0.046174</td>\n",
       "      <td>0.137571</td>\n",
       "      <td>0.075793</td>\n",
       "      <td>0.454970</td>\n",
       "      <td>NaN</td>\n",
       "      <td>NaN</td>\n",
       "      <td>0.119171</td>\n",
       "      <td>0.057372</td>\n",
       "    </tr>\n",
       "    <tr>\n",
       "      <th>funded_amnt_inv</th>\n",
       "      <td>0.239313</td>\n",
       "      <td>0.958694</td>\n",
       "      <td>0.958694</td>\n",
       "      <td>1.000000</td>\n",
       "      <td>0.298102</td>\n",
       "      <td>0.907279</td>\n",
       "      <td>0.168319</td>\n",
       "      <td>0.263961</td>\n",
       "      <td>0.075100</td>\n",
       "      <td>-0.039788</td>\n",
       "      <td>...</td>\n",
       "      <td>0.849960</td>\n",
       "      <td>0.733253</td>\n",
       "      <td>0.027028</td>\n",
       "      <td>0.125631</td>\n",
       "      <td>0.062478</td>\n",
       "      <td>0.444786</td>\n",
       "      <td>NaN</td>\n",
       "      <td>NaN</td>\n",
       "      <td>0.244776</td>\n",
       "      <td>0.084284</td>\n",
       "    </tr>\n",
       "    <tr>\n",
       "      <th>int_rate</th>\n",
       "      <td>0.068306</td>\n",
       "      <td>0.304068</td>\n",
       "      <td>0.304068</td>\n",
       "      <td>0.298102</td>\n",
       "      <td>1.000000</td>\n",
       "      <td>0.275539</td>\n",
       "      <td>0.014261</td>\n",
       "      <td>0.050449</td>\n",
       "      <td>0.107343</td>\n",
       "      <td>0.156228</td>\n",
       "      <td>...</td>\n",
       "      <td>0.182320</td>\n",
       "      <td>0.522704</td>\n",
       "      <td>0.092162</td>\n",
       "      <td>0.121757</td>\n",
       "      <td>0.066648</td>\n",
       "      <td>0.153460</td>\n",
       "      <td>NaN</td>\n",
       "      <td>NaN</td>\n",
       "      <td>0.042128</td>\n",
       "      <td>0.056332</td>\n",
       "    </tr>\n",
       "    <tr>\n",
       "      <th>installment</th>\n",
       "      <td>0.077759</td>\n",
       "      <td>0.958080</td>\n",
       "      <td>0.958080</td>\n",
       "      <td>0.907279</td>\n",
       "      <td>0.275539</td>\n",
       "      <td>1.000000</td>\n",
       "      <td>0.134669</td>\n",
       "      <td>0.282162</td>\n",
       "      <td>0.055008</td>\n",
       "      <td>-0.021616</td>\n",
       "      <td>...</td>\n",
       "      <td>0.856027</td>\n",
       "      <td>0.639293</td>\n",
       "      <td>0.056257</td>\n",
       "      <td>0.119838</td>\n",
       "      <td>0.076507</td>\n",
       "      <td>0.404841</td>\n",
       "      <td>NaN</td>\n",
       "      <td>NaN</td>\n",
       "      <td>0.044808</td>\n",
       "      <td>0.040898</td>\n",
       "    </tr>\n",
       "    <tr>\n",
       "      <th>emp_length</th>\n",
       "      <td>0.094929</td>\n",
       "      <td>0.159974</td>\n",
       "      <td>0.159974</td>\n",
       "      <td>0.168319</td>\n",
       "      <td>0.014261</td>\n",
       "      <td>0.134669</td>\n",
       "      <td>1.000000</td>\n",
       "      <td>0.129679</td>\n",
       "      <td>0.052266</td>\n",
       "      <td>0.013264</td>\n",
       "      <td>...</td>\n",
       "      <td>0.137816</td>\n",
       "      <td>0.129609</td>\n",
       "      <td>-0.015223</td>\n",
       "      <td>0.025336</td>\n",
       "      <td>0.006536</td>\n",
       "      <td>0.081076</td>\n",
       "      <td>NaN</td>\n",
       "      <td>NaN</td>\n",
       "      <td>0.098566</td>\n",
       "      <td>0.023626</td>\n",
       "    </tr>\n",
       "    <tr>\n",
       "      <th>annual_inc</th>\n",
       "      <td>0.010192</td>\n",
       "      <td>0.275606</td>\n",
       "      <td>0.275606</td>\n",
       "      <td>0.263961</td>\n",
       "      <td>0.050449</td>\n",
       "      <td>0.282162</td>\n",
       "      <td>0.129679</td>\n",
       "      <td>1.000000</td>\n",
       "      <td>-0.123407</td>\n",
       "      <td>0.022041</td>\n",
       "      <td>...</td>\n",
       "      <td>0.268620</td>\n",
       "      <td>0.188775</td>\n",
       "      <td>0.005507</td>\n",
       "      <td>0.021098</td>\n",
       "      <td>0.015692</td>\n",
       "      <td>0.145313</td>\n",
       "      <td>NaN</td>\n",
       "      <td>NaN</td>\n",
       "      <td>0.010706</td>\n",
       "      <td>0.009428</td>\n",
       "    </tr>\n",
       "    <tr>\n",
       "      <th>dti</th>\n",
       "      <td>0.097398</td>\n",
       "      <td>0.066441</td>\n",
       "      <td>0.066441</td>\n",
       "      <td>0.075100</td>\n",
       "      <td>0.107343</td>\n",
       "      <td>0.055008</td>\n",
       "      <td>0.052266</td>\n",
       "      <td>-0.123407</td>\n",
       "      <td>1.000000</td>\n",
       "      <td>-0.032782</td>\n",
       "      <td>...</td>\n",
       "      <td>0.043176</td>\n",
       "      <td>0.106144</td>\n",
       "      <td>-0.011689</td>\n",
       "      <td>0.024741</td>\n",
       "      <td>0.011046</td>\n",
       "      <td>0.004850</td>\n",
       "      <td>NaN</td>\n",
       "      <td>NaN</td>\n",
       "      <td>0.096943</td>\n",
       "      <td>0.020820</td>\n",
       "    </tr>\n",
       "    <tr>\n",
       "      <th>delinq_2yrs</th>\n",
       "      <td>-0.009397</td>\n",
       "      <td>-0.033849</td>\n",
       "      <td>-0.033849</td>\n",
       "      <td>-0.039788</td>\n",
       "      <td>0.156228</td>\n",
       "      <td>-0.021616</td>\n",
       "      <td>0.013264</td>\n",
       "      <td>0.022041</td>\n",
       "      <td>-0.032782</td>\n",
       "      <td>1.000000</td>\n",
       "      <td>...</td>\n",
       "      <td>-0.040087</td>\n",
       "      <td>0.020776</td>\n",
       "      <td>0.027146</td>\n",
       "      <td>0.011442</td>\n",
       "      <td>0.011439</td>\n",
       "      <td>-0.012758</td>\n",
       "      <td>NaN</td>\n",
       "      <td>NaN</td>\n",
       "      <td>-0.003904</td>\n",
       "      <td>-0.009280</td>\n",
       "    </tr>\n",
       "    <tr>\n",
       "      <th>inq_last_6mths</th>\n",
       "      <td>-0.041242</td>\n",
       "      <td>0.010460</td>\n",
       "      <td>0.010460</td>\n",
       "      <td>-0.004349</td>\n",
       "      <td>0.136970</td>\n",
       "      <td>0.010963</td>\n",
       "      <td>0.009976</td>\n",
       "      <td>0.031708</td>\n",
       "      <td>0.003685</td>\n",
       "      <td>0.007481</td>\n",
       "      <td>...</td>\n",
       "      <td>-0.021956</td>\n",
       "      <td>0.023776</td>\n",
       "      <td>0.030757</td>\n",
       "      <td>0.018541</td>\n",
       "      <td>0.011951</td>\n",
       "      <td>0.029731</td>\n",
       "      <td>NaN</td>\n",
       "      <td>NaN</td>\n",
       "      <td>-0.059547</td>\n",
       "      <td>0.013212</td>\n",
       "    </tr>\n",
       "    <tr>\n",
       "      <th>open_acc</th>\n",
       "      <td>0.022126</td>\n",
       "      <td>0.177185</td>\n",
       "      <td>0.177185</td>\n",
       "      <td>0.164990</td>\n",
       "      <td>0.007814</td>\n",
       "      <td>0.175362</td>\n",
       "      <td>0.103972</td>\n",
       "      <td>0.163717</td>\n",
       "      <td>0.288046</td>\n",
       "      <td>0.012773</td>\n",
       "      <td>...</td>\n",
       "      <td>0.163306</td>\n",
       "      <td>0.125235</td>\n",
       "      <td>-0.018972</td>\n",
       "      <td>0.016794</td>\n",
       "      <td>0.006637</td>\n",
       "      <td>0.080544</td>\n",
       "      <td>NaN</td>\n",
       "      <td>NaN</td>\n",
       "      <td>0.015502</td>\n",
       "      <td>0.001277</td>\n",
       "    </tr>\n",
       "    <tr>\n",
       "      <th>pub_rec</th>\n",
       "      <td>-0.020395</td>\n",
       "      <td>-0.053346</td>\n",
       "      <td>-0.053346</td>\n",
       "      <td>-0.053992</td>\n",
       "      <td>0.092906</td>\n",
       "      <td>-0.047868</td>\n",
       "      <td>0.050130</td>\n",
       "      <td>-0.018539</td>\n",
       "      <td>-0.006446</td>\n",
       "      <td>0.007863</td>\n",
       "      <td>...</td>\n",
       "      <td>-0.064580</td>\n",
       "      <td>-0.009867</td>\n",
       "      <td>-0.002958</td>\n",
       "      <td>-0.005549</td>\n",
       "      <td>-0.004864</td>\n",
       "      <td>-0.031336</td>\n",
       "      <td>NaN</td>\n",
       "      <td>NaN</td>\n",
       "      <td>-0.006502</td>\n",
       "      <td>-0.021567</td>\n",
       "    </tr>\n",
       "    <tr>\n",
       "      <th>revol_bal</th>\n",
       "      <td>0.012877</td>\n",
       "      <td>0.315477</td>\n",
       "      <td>0.315477</td>\n",
       "      <td>0.296814</td>\n",
       "      <td>0.097075</td>\n",
       "      <td>0.320237</td>\n",
       "      <td>0.157576</td>\n",
       "      <td>0.292629</td>\n",
       "      <td>0.229825</td>\n",
       "      <td>-0.055666</td>\n",
       "      <td>...</td>\n",
       "      <td>0.288599</td>\n",
       "      <td>0.245822</td>\n",
       "      <td>0.000453</td>\n",
       "      <td>0.040978</td>\n",
       "      <td>0.022105</td>\n",
       "      <td>0.123668</td>\n",
       "      <td>NaN</td>\n",
       "      <td>NaN</td>\n",
       "      <td>-0.001078</td>\n",
       "      <td>0.015063</td>\n",
       "    </tr>\n",
       "    <tr>\n",
       "      <th>total_acc</th>\n",
       "      <td>0.043063</td>\n",
       "      <td>0.249598</td>\n",
       "      <td>0.249598</td>\n",
       "      <td>0.242237</td>\n",
       "      <td>-0.049341</td>\n",
       "      <td>0.232635</td>\n",
       "      <td>0.206181</td>\n",
       "      <td>0.243002</td>\n",
       "      <td>0.230897</td>\n",
       "      <td>0.069332</td>\n",
       "      <td>...</td>\n",
       "      <td>0.231554</td>\n",
       "      <td>0.145580</td>\n",
       "      <td>-0.025538</td>\n",
       "      <td>0.023589</td>\n",
       "      <td>0.010805</td>\n",
       "      <td>0.162321</td>\n",
       "      <td>NaN</td>\n",
       "      <td>NaN</td>\n",
       "      <td>0.054487</td>\n",
       "      <td>-0.000274</td>\n",
       "    </tr>\n",
       "    <tr>\n",
       "      <th>out_prncp</th>\n",
       "      <td>0.176434</td>\n",
       "      <td>0.194125</td>\n",
       "      <td>0.194125</td>\n",
       "      <td>0.203222</td>\n",
       "      <td>0.134016</td>\n",
       "      <td>0.124162</td>\n",
       "      <td>0.050367</td>\n",
       "      <td>0.034371</td>\n",
       "      <td>0.037097</td>\n",
       "      <td>-0.005645</td>\n",
       "      <td>...</td>\n",
       "      <td>0.165308</td>\n",
       "      <td>0.385495</td>\n",
       "      <td>-0.006960</td>\n",
       "      <td>-0.018200</td>\n",
       "      <td>-0.010973</td>\n",
       "      <td>-0.063969</td>\n",
       "      <td>NaN</td>\n",
       "      <td>NaN</td>\n",
       "      <td>0.100617</td>\n",
       "      <td>0.124073</td>\n",
       "    </tr>\n",
       "    <tr>\n",
       "      <th>out_prncp_inv</th>\n",
       "      <td>0.176389</td>\n",
       "      <td>0.193986</td>\n",
       "      <td>0.193986</td>\n",
       "      <td>0.203225</td>\n",
       "      <td>0.134199</td>\n",
       "      <td>0.124138</td>\n",
       "      <td>0.050301</td>\n",
       "      <td>0.034329</td>\n",
       "      <td>0.036959</td>\n",
       "      <td>-0.005587</td>\n",
       "      <td>...</td>\n",
       "      <td>0.165152</td>\n",
       "      <td>0.385474</td>\n",
       "      <td>-0.007098</td>\n",
       "      <td>-0.018184</td>\n",
       "      <td>-0.010964</td>\n",
       "      <td>-0.063909</td>\n",
       "      <td>NaN</td>\n",
       "      <td>NaN</td>\n",
       "      <td>0.100528</td>\n",
       "      <td>0.124102</td>\n",
       "    </tr>\n",
       "    <tr>\n",
       "      <th>total_pymnt</th>\n",
       "      <td>0.132667</td>\n",
       "      <td>0.906503</td>\n",
       "      <td>0.906503</td>\n",
       "      <td>0.884203</td>\n",
       "      <td>0.301133</td>\n",
       "      <td>0.861729</td>\n",
       "      <td>0.146784</td>\n",
       "      <td>0.265782</td>\n",
       "      <td>0.065944</td>\n",
       "      <td>-0.024577</td>\n",
       "      <td>...</td>\n",
       "      <td>0.972275</td>\n",
       "      <td>0.829399</td>\n",
       "      <td>0.013324</td>\n",
       "      <td>0.027178</td>\n",
       "      <td>0.027110</td>\n",
       "      <td>0.476037</td>\n",
       "      <td>NaN</td>\n",
       "      <td>NaN</td>\n",
       "      <td>0.119614</td>\n",
       "      <td>0.046525</td>\n",
       "    </tr>\n",
       "    <tr>\n",
       "      <th>total_pymnt_inv</th>\n",
       "      <td>0.212408</td>\n",
       "      <td>0.873721</td>\n",
       "      <td>0.873721</td>\n",
       "      <td>0.915821</td>\n",
       "      <td>0.296382</td>\n",
       "      <td>0.821851</td>\n",
       "      <td>0.154804</td>\n",
       "      <td>0.255952</td>\n",
       "      <td>0.072825</td>\n",
       "      <td>-0.030866</td>\n",
       "      <td>...</td>\n",
       "      <td>0.940360</td>\n",
       "      <td>0.815932</td>\n",
       "      <td>-0.000642</td>\n",
       "      <td>0.021121</td>\n",
       "      <td>0.018157</td>\n",
       "      <td>0.463954</td>\n",
       "      <td>NaN</td>\n",
       "      <td>NaN</td>\n",
       "      <td>0.223810</td>\n",
       "      <td>0.069734</td>\n",
       "    </tr>\n",
       "    <tr>\n",
       "      <th>total_rec_prncp</th>\n",
       "      <td>0.105434</td>\n",
       "      <td>0.874690</td>\n",
       "      <td>0.874690</td>\n",
       "      <td>0.849960</td>\n",
       "      <td>0.182320</td>\n",
       "      <td>0.856027</td>\n",
       "      <td>0.137816</td>\n",
       "      <td>0.268620</td>\n",
       "      <td>0.043176</td>\n",
       "      <td>-0.040087</td>\n",
       "      <td>...</td>\n",
       "      <td>1.000000</td>\n",
       "      <td>0.687169</td>\n",
       "      <td>-0.019153</td>\n",
       "      <td>-0.090207</td>\n",
       "      <td>-0.055828</td>\n",
       "      <td>0.542833</td>\n",
       "      <td>NaN</td>\n",
       "      <td>NaN</td>\n",
       "      <td>0.095451</td>\n",
       "      <td>0.034883</td>\n",
       "    </tr>\n",
       "    <tr>\n",
       "      <th>total_rec_int</th>\n",
       "      <td>0.166968</td>\n",
       "      <td>0.740349</td>\n",
       "      <td>0.740349</td>\n",
       "      <td>0.733253</td>\n",
       "      <td>0.522704</td>\n",
       "      <td>0.639293</td>\n",
       "      <td>0.129609</td>\n",
       "      <td>0.188775</td>\n",
       "      <td>0.106144</td>\n",
       "      <td>0.020776</td>\n",
       "      <td>...</td>\n",
       "      <td>0.687169</td>\n",
       "      <td>1.000000</td>\n",
       "      <td>0.069380</td>\n",
       "      <td>0.079149</td>\n",
       "      <td>0.035496</td>\n",
       "      <td>0.196864</td>\n",
       "      <td>NaN</td>\n",
       "      <td>NaN</td>\n",
       "      <td>0.152405</td>\n",
       "      <td>0.061543</td>\n",
       "    </tr>\n",
       "    <tr>\n",
       "      <th>total_rec_late_fee</th>\n",
       "      <td>-0.056380</td>\n",
       "      <td>0.046174</td>\n",
       "      <td>0.046174</td>\n",
       "      <td>0.027028</td>\n",
       "      <td>0.092162</td>\n",
       "      <td>0.056257</td>\n",
       "      <td>-0.015223</td>\n",
       "      <td>0.005507</td>\n",
       "      <td>-0.011689</td>\n",
       "      <td>0.027146</td>\n",
       "      <td>...</td>\n",
       "      <td>-0.019153</td>\n",
       "      <td>0.069380</td>\n",
       "      <td>1.000000</td>\n",
       "      <td>0.102669</td>\n",
       "      <td>0.094795</td>\n",
       "      <td>-0.060830</td>\n",
       "      <td>NaN</td>\n",
       "      <td>NaN</td>\n",
       "      <td>-0.067755</td>\n",
       "      <td>-0.003166</td>\n",
       "    </tr>\n",
       "    <tr>\n",
       "      <th>recoveries</th>\n",
       "      <td>0.033464</td>\n",
       "      <td>0.137571</td>\n",
       "      <td>0.137571</td>\n",
       "      <td>0.125631</td>\n",
       "      <td>0.121757</td>\n",
       "      <td>0.119838</td>\n",
       "      <td>0.025336</td>\n",
       "      <td>0.021098</td>\n",
       "      <td>0.024741</td>\n",
       "      <td>0.011442</td>\n",
       "      <td>...</td>\n",
       "      <td>-0.090207</td>\n",
       "      <td>0.079149</td>\n",
       "      <td>0.102669</td>\n",
       "      <td>1.000000</td>\n",
       "      <td>0.806725</td>\n",
       "      <td>-0.068110</td>\n",
       "      <td>NaN</td>\n",
       "      <td>NaN</td>\n",
       "      <td>0.019197</td>\n",
       "      <td>0.022002</td>\n",
       "    </tr>\n",
       "    <tr>\n",
       "      <th>collection_recovery_fee</th>\n",
       "      <td>-0.012862</td>\n",
       "      <td>0.075793</td>\n",
       "      <td>0.075793</td>\n",
       "      <td>0.062478</td>\n",
       "      <td>0.066648</td>\n",
       "      <td>0.076507</td>\n",
       "      <td>0.006536</td>\n",
       "      <td>0.015692</td>\n",
       "      <td>0.011046</td>\n",
       "      <td>0.011439</td>\n",
       "      <td>...</td>\n",
       "      <td>-0.055828</td>\n",
       "      <td>0.035496</td>\n",
       "      <td>0.094795</td>\n",
       "      <td>0.806725</td>\n",
       "      <td>1.000000</td>\n",
       "      <td>-0.040675</td>\n",
       "      <td>NaN</td>\n",
       "      <td>NaN</td>\n",
       "      <td>-0.019207</td>\n",
       "      <td>-0.000776</td>\n",
       "    </tr>\n",
       "    <tr>\n",
       "      <th>last_pymnt_amnt</th>\n",
       "      <td>0.117967</td>\n",
       "      <td>0.454970</td>\n",
       "      <td>0.454970</td>\n",
       "      <td>0.444786</td>\n",
       "      <td>0.153460</td>\n",
       "      <td>0.404841</td>\n",
       "      <td>0.081076</td>\n",
       "      <td>0.145313</td>\n",
       "      <td>0.004850</td>\n",
       "      <td>-0.012758</td>\n",
       "      <td>...</td>\n",
       "      <td>0.542833</td>\n",
       "      <td>0.196864</td>\n",
       "      <td>-0.060830</td>\n",
       "      <td>-0.068110</td>\n",
       "      <td>-0.040675</td>\n",
       "      <td>1.000000</td>\n",
       "      <td>NaN</td>\n",
       "      <td>NaN</td>\n",
       "      <td>0.111087</td>\n",
       "      <td>0.044329</td>\n",
       "    </tr>\n",
       "    <tr>\n",
       "      <th>policy_code</th>\n",
       "      <td>NaN</td>\n",
       "      <td>NaN</td>\n",
       "      <td>NaN</td>\n",
       "      <td>NaN</td>\n",
       "      <td>NaN</td>\n",
       "      <td>NaN</td>\n",
       "      <td>NaN</td>\n",
       "      <td>NaN</td>\n",
       "      <td>NaN</td>\n",
       "      <td>NaN</td>\n",
       "      <td>...</td>\n",
       "      <td>NaN</td>\n",
       "      <td>NaN</td>\n",
       "      <td>NaN</td>\n",
       "      <td>NaN</td>\n",
       "      <td>NaN</td>\n",
       "      <td>NaN</td>\n",
       "      <td>NaN</td>\n",
       "      <td>NaN</td>\n",
       "      <td>NaN</td>\n",
       "      <td>NaN</td>\n",
       "    </tr>\n",
       "    <tr>\n",
       "      <th>acc_now_delinq</th>\n",
       "      <td>NaN</td>\n",
       "      <td>NaN</td>\n",
       "      <td>NaN</td>\n",
       "      <td>NaN</td>\n",
       "      <td>NaN</td>\n",
       "      <td>NaN</td>\n",
       "      <td>NaN</td>\n",
       "      <td>NaN</td>\n",
       "      <td>NaN</td>\n",
       "      <td>NaN</td>\n",
       "      <td>...</td>\n",
       "      <td>NaN</td>\n",
       "      <td>NaN</td>\n",
       "      <td>NaN</td>\n",
       "      <td>NaN</td>\n",
       "      <td>NaN</td>\n",
       "      <td>NaN</td>\n",
       "      <td>NaN</td>\n",
       "      <td>NaN</td>\n",
       "      <td>NaN</td>\n",
       "      <td>NaN</td>\n",
       "    </tr>\n",
       "    <tr>\n",
       "      <th>issue_d_year</th>\n",
       "      <td>0.844713</td>\n",
       "      <td>0.119171</td>\n",
       "      <td>0.119171</td>\n",
       "      <td>0.244776</td>\n",
       "      <td>0.042128</td>\n",
       "      <td>0.044808</td>\n",
       "      <td>0.098566</td>\n",
       "      <td>0.010706</td>\n",
       "      <td>0.096943</td>\n",
       "      <td>-0.003904</td>\n",
       "      <td>...</td>\n",
       "      <td>0.095451</td>\n",
       "      <td>0.152405</td>\n",
       "      <td>-0.067755</td>\n",
       "      <td>0.019197</td>\n",
       "      <td>-0.019207</td>\n",
       "      <td>0.111087</td>\n",
       "      <td>NaN</td>\n",
       "      <td>NaN</td>\n",
       "      <td>1.000000</td>\n",
       "      <td>-0.019120</td>\n",
       "    </tr>\n",
       "    <tr>\n",
       "      <th>issue_d_month</th>\n",
       "      <td>0.413170</td>\n",
       "      <td>0.057372</td>\n",
       "      <td>0.057372</td>\n",
       "      <td>0.084284</td>\n",
       "      <td>0.056332</td>\n",
       "      <td>0.040898</td>\n",
       "      <td>0.023626</td>\n",
       "      <td>0.009428</td>\n",
       "      <td>0.020820</td>\n",
       "      <td>-0.009280</td>\n",
       "      <td>...</td>\n",
       "      <td>0.034883</td>\n",
       "      <td>0.061543</td>\n",
       "      <td>-0.003166</td>\n",
       "      <td>0.022002</td>\n",
       "      <td>-0.000776</td>\n",
       "      <td>0.044329</td>\n",
       "      <td>NaN</td>\n",
       "      <td>NaN</td>\n",
       "      <td>-0.019120</td>\n",
       "      <td>1.000000</td>\n",
       "    </tr>\n",
       "  </tbody>\n",
       "</table>\n",
       "<p>29 rows × 29 columns</p>\n",
       "</div>"
      ],
      "text/plain": [
       "                               id  loan_amnt  funded_amnt  funded_amnt_inv  \\\n",
       "id                       1.000000   0.143636     0.143636         0.239313   \n",
       "loan_amnt                0.143636   1.000000     1.000000         0.958694   \n",
       "funded_amnt              0.143636   1.000000     1.000000         0.958694   \n",
       "funded_amnt_inv          0.239313   0.958694     0.958694         1.000000   \n",
       "int_rate                 0.068306   0.304068     0.304068         0.298102   \n",
       "installment              0.077759   0.958080     0.958080         0.907279   \n",
       "emp_length               0.094929   0.159974     0.159974         0.168319   \n",
       "annual_inc               0.010192   0.275606     0.275606         0.263961   \n",
       "dti                      0.097398   0.066441     0.066441         0.075100   \n",
       "delinq_2yrs             -0.009397  -0.033849    -0.033849        -0.039788   \n",
       "inq_last_6mths          -0.041242   0.010460     0.010460        -0.004349   \n",
       "open_acc                 0.022126   0.177185     0.177185         0.164990   \n",
       "pub_rec                 -0.020395  -0.053346    -0.053346        -0.053992   \n",
       "revol_bal                0.012877   0.315477     0.315477         0.296814   \n",
       "total_acc                0.043063   0.249598     0.249598         0.242237   \n",
       "out_prncp                0.176434   0.194125     0.194125         0.203222   \n",
       "out_prncp_inv            0.176389   0.193986     0.193986         0.203225   \n",
       "total_pymnt              0.132667   0.906503     0.906503         0.884203   \n",
       "total_pymnt_inv          0.212408   0.873721     0.873721         0.915821   \n",
       "total_rec_prncp          0.105434   0.874690     0.874690         0.849960   \n",
       "total_rec_int            0.166968   0.740349     0.740349         0.733253   \n",
       "total_rec_late_fee      -0.056380   0.046174     0.046174         0.027028   \n",
       "recoveries               0.033464   0.137571     0.137571         0.125631   \n",
       "collection_recovery_fee -0.012862   0.075793     0.075793         0.062478   \n",
       "last_pymnt_amnt          0.117967   0.454970     0.454970         0.444786   \n",
       "policy_code                   NaN        NaN          NaN              NaN   \n",
       "acc_now_delinq                NaN        NaN          NaN              NaN   \n",
       "issue_d_year             0.844713   0.119171     0.119171         0.244776   \n",
       "issue_d_month            0.413170   0.057372     0.057372         0.084284   \n",
       "\n",
       "                         int_rate  installment  emp_length  annual_inc  \\\n",
       "id                       0.068306     0.077759    0.094929    0.010192   \n",
       "loan_amnt                0.304068     0.958080    0.159974    0.275606   \n",
       "funded_amnt              0.304068     0.958080    0.159974    0.275606   \n",
       "funded_amnt_inv          0.298102     0.907279    0.168319    0.263961   \n",
       "int_rate                 1.000000     0.275539    0.014261    0.050449   \n",
       "installment              0.275539     1.000000    0.134669    0.282162   \n",
       "emp_length               0.014261     0.134669    1.000000    0.129679   \n",
       "annual_inc               0.050449     0.282162    0.129679    1.000000   \n",
       "dti                      0.107343     0.055008    0.052266   -0.123407   \n",
       "delinq_2yrs              0.156228    -0.021616    0.013264    0.022041   \n",
       "inq_last_6mths           0.136970     0.010963    0.009976    0.031708   \n",
       "open_acc                 0.007814     0.175362    0.103972    0.163717   \n",
       "pub_rec                  0.092906    -0.047868    0.050130   -0.018539   \n",
       "revol_bal                0.097075     0.320237    0.157576    0.292629   \n",
       "total_acc               -0.049341     0.232635    0.206181    0.243002   \n",
       "out_prncp                0.134016     0.124162    0.050367    0.034371   \n",
       "out_prncp_inv            0.134199     0.124138    0.050301    0.034329   \n",
       "total_pymnt              0.301133     0.861729    0.146784    0.265782   \n",
       "total_pymnt_inv          0.296382     0.821851    0.154804    0.255952   \n",
       "total_rec_prncp          0.182320     0.856027    0.137816    0.268620   \n",
       "total_rec_int            0.522704     0.639293    0.129609    0.188775   \n",
       "total_rec_late_fee       0.092162     0.056257   -0.015223    0.005507   \n",
       "recoveries               0.121757     0.119838    0.025336    0.021098   \n",
       "collection_recovery_fee  0.066648     0.076507    0.006536    0.015692   \n",
       "last_pymnt_amnt          0.153460     0.404841    0.081076    0.145313   \n",
       "policy_code                   NaN          NaN         NaN         NaN   \n",
       "acc_now_delinq                NaN          NaN         NaN         NaN   \n",
       "issue_d_year             0.042128     0.044808    0.098566    0.010706   \n",
       "issue_d_month            0.056332     0.040898    0.023626    0.009428   \n",
       "\n",
       "                              dti  delinq_2yrs  ...  total_rec_prncp  \\\n",
       "id                       0.097398    -0.009397  ...         0.105434   \n",
       "loan_amnt                0.066441    -0.033849  ...         0.874690   \n",
       "funded_amnt              0.066441    -0.033849  ...         0.874690   \n",
       "funded_amnt_inv          0.075100    -0.039788  ...         0.849960   \n",
       "int_rate                 0.107343     0.156228  ...         0.182320   \n",
       "installment              0.055008    -0.021616  ...         0.856027   \n",
       "emp_length               0.052266     0.013264  ...         0.137816   \n",
       "annual_inc              -0.123407     0.022041  ...         0.268620   \n",
       "dti                      1.000000    -0.032782  ...         0.043176   \n",
       "delinq_2yrs             -0.032782     1.000000  ...        -0.040087   \n",
       "inq_last_6mths           0.003685     0.007481  ...        -0.021956   \n",
       "open_acc                 0.288046     0.012773  ...         0.163306   \n",
       "pub_rec                 -0.006446     0.007863  ...        -0.064580   \n",
       "revol_bal                0.229825    -0.055666  ...         0.288599   \n",
       "total_acc                0.230897     0.069332  ...         0.231554   \n",
       "out_prncp                0.037097    -0.005645  ...         0.165308   \n",
       "out_prncp_inv            0.036959    -0.005587  ...         0.165152   \n",
       "total_pymnt              0.065944    -0.024577  ...         0.972275   \n",
       "total_pymnt_inv          0.072825    -0.030866  ...         0.940360   \n",
       "total_rec_prncp          0.043176    -0.040087  ...         1.000000   \n",
       "total_rec_int            0.106144     0.020776  ...         0.687169   \n",
       "total_rec_late_fee      -0.011689     0.027146  ...        -0.019153   \n",
       "recoveries               0.024741     0.011442  ...        -0.090207   \n",
       "collection_recovery_fee  0.011046     0.011439  ...        -0.055828   \n",
       "last_pymnt_amnt          0.004850    -0.012758  ...         0.542833   \n",
       "policy_code                   NaN          NaN  ...              NaN   \n",
       "acc_now_delinq                NaN          NaN  ...              NaN   \n",
       "issue_d_year             0.096943    -0.003904  ...         0.095451   \n",
       "issue_d_month            0.020820    -0.009280  ...         0.034883   \n",
       "\n",
       "                         total_rec_int  total_rec_late_fee  recoveries  \\\n",
       "id                            0.166968           -0.056380    0.033464   \n",
       "loan_amnt                     0.740349            0.046174    0.137571   \n",
       "funded_amnt                   0.740349            0.046174    0.137571   \n",
       "funded_amnt_inv               0.733253            0.027028    0.125631   \n",
       "int_rate                      0.522704            0.092162    0.121757   \n",
       "installment                   0.639293            0.056257    0.119838   \n",
       "emp_length                    0.129609           -0.015223    0.025336   \n",
       "annual_inc                    0.188775            0.005507    0.021098   \n",
       "dti                           0.106144           -0.011689    0.024741   \n",
       "delinq_2yrs                   0.020776            0.027146    0.011442   \n",
       "inq_last_6mths                0.023776            0.030757    0.018541   \n",
       "open_acc                      0.125235           -0.018972    0.016794   \n",
       "pub_rec                      -0.009867           -0.002958   -0.005549   \n",
       "revol_bal                     0.245822            0.000453    0.040978   \n",
       "total_acc                     0.145580           -0.025538    0.023589   \n",
       "out_prncp                     0.385495           -0.006960   -0.018200   \n",
       "out_prncp_inv                 0.385474           -0.007098   -0.018184   \n",
       "total_pymnt                   0.829399            0.013324    0.027178   \n",
       "total_pymnt_inv               0.815932           -0.000642    0.021121   \n",
       "total_rec_prncp               0.687169           -0.019153   -0.090207   \n",
       "total_rec_int                 1.000000            0.069380    0.079149   \n",
       "total_rec_late_fee            0.069380            1.000000    0.102669   \n",
       "recoveries                    0.079149            0.102669    1.000000   \n",
       "collection_recovery_fee       0.035496            0.094795    0.806725   \n",
       "last_pymnt_amnt               0.196864           -0.060830   -0.068110   \n",
       "policy_code                        NaN                 NaN         NaN   \n",
       "acc_now_delinq                     NaN                 NaN         NaN   \n",
       "issue_d_year                  0.152405           -0.067755    0.019197   \n",
       "issue_d_month                 0.061543           -0.003166    0.022002   \n",
       "\n",
       "                         collection_recovery_fee  last_pymnt_amnt  \\\n",
       "id                                     -0.012862         0.117967   \n",
       "loan_amnt                               0.075793         0.454970   \n",
       "funded_amnt                             0.075793         0.454970   \n",
       "funded_amnt_inv                         0.062478         0.444786   \n",
       "int_rate                                0.066648         0.153460   \n",
       "installment                             0.076507         0.404841   \n",
       "emp_length                              0.006536         0.081076   \n",
       "annual_inc                              0.015692         0.145313   \n",
       "dti                                     0.011046         0.004850   \n",
       "delinq_2yrs                             0.011439        -0.012758   \n",
       "inq_last_6mths                          0.011951         0.029731   \n",
       "open_acc                                0.006637         0.080544   \n",
       "pub_rec                                -0.004864        -0.031336   \n",
       "revol_bal                               0.022105         0.123668   \n",
       "total_acc                               0.010805         0.162321   \n",
       "out_prncp                              -0.010973        -0.063969   \n",
       "out_prncp_inv                          -0.010964        -0.063909   \n",
       "total_pymnt                             0.027110         0.476037   \n",
       "total_pymnt_inv                         0.018157         0.463954   \n",
       "total_rec_prncp                        -0.055828         0.542833   \n",
       "total_rec_int                           0.035496         0.196864   \n",
       "total_rec_late_fee                      0.094795        -0.060830   \n",
       "recoveries                              0.806725        -0.068110   \n",
       "collection_recovery_fee                 1.000000        -0.040675   \n",
       "last_pymnt_amnt                        -0.040675         1.000000   \n",
       "policy_code                                  NaN              NaN   \n",
       "acc_now_delinq                               NaN              NaN   \n",
       "issue_d_year                           -0.019207         0.111087   \n",
       "issue_d_month                          -0.000776         0.044329   \n",
       "\n",
       "                         policy_code  acc_now_delinq  issue_d_year  \\\n",
       "id                               NaN             NaN      0.844713   \n",
       "loan_amnt                        NaN             NaN      0.119171   \n",
       "funded_amnt                      NaN             NaN      0.119171   \n",
       "funded_amnt_inv                  NaN             NaN      0.244776   \n",
       "int_rate                         NaN             NaN      0.042128   \n",
       "installment                      NaN             NaN      0.044808   \n",
       "emp_length                       NaN             NaN      0.098566   \n",
       "annual_inc                       NaN             NaN      0.010706   \n",
       "dti                              NaN             NaN      0.096943   \n",
       "delinq_2yrs                      NaN             NaN     -0.003904   \n",
       "inq_last_6mths                   NaN             NaN     -0.059547   \n",
       "open_acc                         NaN             NaN      0.015502   \n",
       "pub_rec                          NaN             NaN     -0.006502   \n",
       "revol_bal                        NaN             NaN     -0.001078   \n",
       "total_acc                        NaN             NaN      0.054487   \n",
       "out_prncp                        NaN             NaN      0.100617   \n",
       "out_prncp_inv                    NaN             NaN      0.100528   \n",
       "total_pymnt                      NaN             NaN      0.119614   \n",
       "total_pymnt_inv                  NaN             NaN      0.223810   \n",
       "total_rec_prncp                  NaN             NaN      0.095451   \n",
       "total_rec_int                    NaN             NaN      0.152405   \n",
       "total_rec_late_fee               NaN             NaN     -0.067755   \n",
       "recoveries                       NaN             NaN      0.019197   \n",
       "collection_recovery_fee          NaN             NaN     -0.019207   \n",
       "last_pymnt_amnt                  NaN             NaN      0.111087   \n",
       "policy_code                      NaN             NaN           NaN   \n",
       "acc_now_delinq                   NaN             NaN           NaN   \n",
       "issue_d_year                     NaN             NaN      1.000000   \n",
       "issue_d_month                    NaN             NaN     -0.019120   \n",
       "\n",
       "                         issue_d_month  \n",
       "id                            0.413170  \n",
       "loan_amnt                     0.057372  \n",
       "funded_amnt                   0.057372  \n",
       "funded_amnt_inv               0.084284  \n",
       "int_rate                      0.056332  \n",
       "installment                   0.040898  \n",
       "emp_length                    0.023626  \n",
       "annual_inc                    0.009428  \n",
       "dti                           0.020820  \n",
       "delinq_2yrs                  -0.009280  \n",
       "inq_last_6mths                0.013212  \n",
       "open_acc                      0.001277  \n",
       "pub_rec                      -0.021567  \n",
       "revol_bal                     0.015063  \n",
       "total_acc                    -0.000274  \n",
       "out_prncp                     0.124073  \n",
       "out_prncp_inv                 0.124102  \n",
       "total_pymnt                   0.046525  \n",
       "total_pymnt_inv               0.069734  \n",
       "total_rec_prncp               0.034883  \n",
       "total_rec_int                 0.061543  \n",
       "total_rec_late_fee           -0.003166  \n",
       "recoveries                    0.022002  \n",
       "collection_recovery_fee      -0.000776  \n",
       "last_pymnt_amnt               0.044329  \n",
       "policy_code                        NaN  \n",
       "acc_now_delinq                     NaN  \n",
       "issue_d_year                 -0.019120  \n",
       "issue_d_month                 1.000000  \n",
       "\n",
       "[29 rows x 29 columns]"
      ]
     },
     "execution_count": 255,
     "metadata": {},
     "output_type": "execute_result"
    }
   ],
   "source": [
    "lending_case.corr()"
   ]
  },
  {
   "cell_type": "code",
   "execution_count": 256,
   "metadata": {},
   "outputs": [
    {
     "name": "stdout",
     "output_type": "stream",
     "text": [
      "Shape after dropping columns with all missing values ::  (37868, 45)\n"
     ]
    }
   ],
   "source": [
    "#correlation matrix prints additional columsn where NAN matrix was determined\n",
    "additional_colums_to_drop = ['policy_code', 'acc_now_delinq'] #['acc_now_delinq']\n",
    "lending_case = lending_case.drop(columns = additional_colums_to_drop)\n",
    "print(\"Shape after dropping columns with all missing values :: \", lending_case.shape)\n"
   ]
  },
  {
   "cell_type": "markdown",
   "metadata": {},
   "source": [
    "#### Heat matrix between numerical variables"
   ]
  },
  {
   "cell_type": "code",
   "execution_count": 257,
   "metadata": {},
   "outputs": [
    {
     "data": {
      "text/html": [
       "<div>\n",
       "<style scoped>\n",
       "    .dataframe tbody tr th:only-of-type {\n",
       "        vertical-align: middle;\n",
       "    }\n",
       "\n",
       "    .dataframe tbody tr th {\n",
       "        vertical-align: top;\n",
       "    }\n",
       "\n",
       "    .dataframe thead th {\n",
       "        text-align: right;\n",
       "    }\n",
       "</style>\n",
       "<table border=\"1\" class=\"dataframe\">\n",
       "  <thead>\n",
       "    <tr style=\"text-align: right;\">\n",
       "      <th></th>\n",
       "      <th>loan_amnt</th>\n",
       "      <th>funded_amnt</th>\n",
       "      <th>total_pymnt</th>\n",
       "      <th>total_pymnt_inv</th>\n",
       "      <th>int_rate</th>\n",
       "      <th>emp_length</th>\n",
       "      <th>annual_inc</th>\n",
       "      <th>dti</th>\n",
       "      <th>issue_d_year</th>\n",
       "      <th>issue_d_month</th>\n",
       "    </tr>\n",
       "  </thead>\n",
       "  <tbody>\n",
       "    <tr>\n",
       "      <th>loan_amnt</th>\n",
       "      <td>1.000000</td>\n",
       "      <td>1.000000</td>\n",
       "      <td>0.906503</td>\n",
       "      <td>0.873721</td>\n",
       "      <td>0.304068</td>\n",
       "      <td>0.159974</td>\n",
       "      <td>0.275606</td>\n",
       "      <td>0.066441</td>\n",
       "      <td>0.119171</td>\n",
       "      <td>0.057372</td>\n",
       "    </tr>\n",
       "    <tr>\n",
       "      <th>funded_amnt</th>\n",
       "      <td>1.000000</td>\n",
       "      <td>1.000000</td>\n",
       "      <td>0.906503</td>\n",
       "      <td>0.873721</td>\n",
       "      <td>0.304068</td>\n",
       "      <td>0.159974</td>\n",
       "      <td>0.275606</td>\n",
       "      <td>0.066441</td>\n",
       "      <td>0.119171</td>\n",
       "      <td>0.057372</td>\n",
       "    </tr>\n",
       "    <tr>\n",
       "      <th>total_pymnt</th>\n",
       "      <td>0.906503</td>\n",
       "      <td>0.906503</td>\n",
       "      <td>1.000000</td>\n",
       "      <td>0.970702</td>\n",
       "      <td>0.301133</td>\n",
       "      <td>0.146784</td>\n",
       "      <td>0.265782</td>\n",
       "      <td>0.065944</td>\n",
       "      <td>0.119614</td>\n",
       "      <td>0.046525</td>\n",
       "    </tr>\n",
       "    <tr>\n",
       "      <th>total_pymnt_inv</th>\n",
       "      <td>0.873721</td>\n",
       "      <td>0.873721</td>\n",
       "      <td>0.970702</td>\n",
       "      <td>1.000000</td>\n",
       "      <td>0.296382</td>\n",
       "      <td>0.154804</td>\n",
       "      <td>0.255952</td>\n",
       "      <td>0.072825</td>\n",
       "      <td>0.223810</td>\n",
       "      <td>0.069734</td>\n",
       "    </tr>\n",
       "    <tr>\n",
       "      <th>int_rate</th>\n",
       "      <td>0.304068</td>\n",
       "      <td>0.304068</td>\n",
       "      <td>0.301133</td>\n",
       "      <td>0.296382</td>\n",
       "      <td>1.000000</td>\n",
       "      <td>0.014261</td>\n",
       "      <td>0.050449</td>\n",
       "      <td>0.107343</td>\n",
       "      <td>0.042128</td>\n",
       "      <td>0.056332</td>\n",
       "    </tr>\n",
       "    <tr>\n",
       "      <th>emp_length</th>\n",
       "      <td>0.159974</td>\n",
       "      <td>0.159974</td>\n",
       "      <td>0.146784</td>\n",
       "      <td>0.154804</td>\n",
       "      <td>0.014261</td>\n",
       "      <td>1.000000</td>\n",
       "      <td>0.129679</td>\n",
       "      <td>0.052266</td>\n",
       "      <td>0.098566</td>\n",
       "      <td>0.023626</td>\n",
       "    </tr>\n",
       "    <tr>\n",
       "      <th>annual_inc</th>\n",
       "      <td>0.275606</td>\n",
       "      <td>0.275606</td>\n",
       "      <td>0.265782</td>\n",
       "      <td>0.255952</td>\n",
       "      <td>0.050449</td>\n",
       "      <td>0.129679</td>\n",
       "      <td>1.000000</td>\n",
       "      <td>-0.123407</td>\n",
       "      <td>0.010706</td>\n",
       "      <td>0.009428</td>\n",
       "    </tr>\n",
       "    <tr>\n",
       "      <th>dti</th>\n",
       "      <td>0.066441</td>\n",
       "      <td>0.066441</td>\n",
       "      <td>0.065944</td>\n",
       "      <td>0.072825</td>\n",
       "      <td>0.107343</td>\n",
       "      <td>0.052266</td>\n",
       "      <td>-0.123407</td>\n",
       "      <td>1.000000</td>\n",
       "      <td>0.096943</td>\n",
       "      <td>0.020820</td>\n",
       "    </tr>\n",
       "    <tr>\n",
       "      <th>issue_d_year</th>\n",
       "      <td>0.119171</td>\n",
       "      <td>0.119171</td>\n",
       "      <td>0.119614</td>\n",
       "      <td>0.223810</td>\n",
       "      <td>0.042128</td>\n",
       "      <td>0.098566</td>\n",
       "      <td>0.010706</td>\n",
       "      <td>0.096943</td>\n",
       "      <td>1.000000</td>\n",
       "      <td>-0.019120</td>\n",
       "    </tr>\n",
       "    <tr>\n",
       "      <th>issue_d_month</th>\n",
       "      <td>0.057372</td>\n",
       "      <td>0.057372</td>\n",
       "      <td>0.046525</td>\n",
       "      <td>0.069734</td>\n",
       "      <td>0.056332</td>\n",
       "      <td>0.023626</td>\n",
       "      <td>0.009428</td>\n",
       "      <td>0.020820</td>\n",
       "      <td>-0.019120</td>\n",
       "      <td>1.000000</td>\n",
       "    </tr>\n",
       "  </tbody>\n",
       "</table>\n",
       "</div>"
      ],
      "text/plain": [
       "                 loan_amnt  funded_amnt  total_pymnt  total_pymnt_inv  \\\n",
       "loan_amnt         1.000000     1.000000     0.906503         0.873721   \n",
       "funded_amnt       1.000000     1.000000     0.906503         0.873721   \n",
       "total_pymnt       0.906503     0.906503     1.000000         0.970702   \n",
       "total_pymnt_inv   0.873721     0.873721     0.970702         1.000000   \n",
       "int_rate          0.304068     0.304068     0.301133         0.296382   \n",
       "emp_length        0.159974     0.159974     0.146784         0.154804   \n",
       "annual_inc        0.275606     0.275606     0.265782         0.255952   \n",
       "dti               0.066441     0.066441     0.065944         0.072825   \n",
       "issue_d_year      0.119171     0.119171     0.119614         0.223810   \n",
       "issue_d_month     0.057372     0.057372     0.046525         0.069734   \n",
       "\n",
       "                 int_rate  emp_length  annual_inc       dti  issue_d_year  \\\n",
       "loan_amnt        0.304068    0.159974    0.275606  0.066441      0.119171   \n",
       "funded_amnt      0.304068    0.159974    0.275606  0.066441      0.119171   \n",
       "total_pymnt      0.301133    0.146784    0.265782  0.065944      0.119614   \n",
       "total_pymnt_inv  0.296382    0.154804    0.255952  0.072825      0.223810   \n",
       "int_rate         1.000000    0.014261    0.050449  0.107343      0.042128   \n",
       "emp_length       0.014261    1.000000    0.129679  0.052266      0.098566   \n",
       "annual_inc       0.050449    0.129679    1.000000 -0.123407      0.010706   \n",
       "dti              0.107343    0.052266   -0.123407  1.000000      0.096943   \n",
       "issue_d_year     0.042128    0.098566    0.010706  0.096943      1.000000   \n",
       "issue_d_month    0.056332    0.023626    0.009428  0.020820     -0.019120   \n",
       "\n",
       "                 issue_d_month  \n",
       "loan_amnt             0.057372  \n",
       "funded_amnt           0.057372  \n",
       "total_pymnt           0.046525  \n",
       "total_pymnt_inv       0.069734  \n",
       "int_rate              0.056332  \n",
       "emp_length            0.023626  \n",
       "annual_inc            0.009428  \n",
       "dti                   0.020820  \n",
       "issue_d_year         -0.019120  \n",
       "issue_d_month         1.000000  "
      ]
     },
     "execution_count": 257,
     "metadata": {},
     "output_type": "execute_result"
    }
   ],
   "source": [
    "corr_matrix_column = ['loan_amnt', 'funded_amnt', 'total_pymnt', 'total_pymnt_inv', 'int_rate', 'emp_length', 'annual_inc', 'dti', 'issue_d_year', 'issue_d_month']\n",
    "lending_case_corr = lending_case[corr_matrix_column]\n",
    "lending_case_corr.corr()"
   ]
  },
  {
   "cell_type": "markdown",
   "metadata": {},
   "source": [
    "### Observation from. heat map between numerical variable\n",
    "#### positive correlationship\n",
    "  1. emp_length & loan_amnt  : more experience employee can take high loan\n",
    "  2. loan_amt & annual_income: more loan is allowed for higher annual income\n",
    "  3. loan_amnt & int_rate : higher interest rate & loan_amnt (if person is defaulted, more loss for the firm)  "
   ]
  },
  {
   "cell_type": "markdown",
   "metadata": {},
   "source": [
    "#### negative correlationship\n",
    "  1. dti & annual_income  : low debt ratio for higher annual income"
   ]
  },
  {
   "cell_type": "code",
   "execution_count": 259,
   "metadata": {},
   "outputs": [
    {
     "ename": "SyntaxError",
     "evalue": "invalid syntax (<ipython-input-259-1770d9124ca1>, line 2)",
     "output_type": "error",
     "traceback": [
      "\u001b[0;36m  File \u001b[0;32m\"<ipython-input-259-1770d9124ca1>\"\u001b[0;36m, line \u001b[0;32m2\u001b[0m\n\u001b[0;31m    positive correlationship\u001b[0m\n\u001b[0m                           ^\u001b[0m\n\u001b[0;31mSyntaxError\u001b[0m\u001b[0;31m:\u001b[0m invalid syntax\n"
     ]
    }
   ],
   "source": [
    "loan_correlation = lending_case[corr_matrix_column].corr()\n",
    "sns.set(font_scale=1.1)\n",
    "sns.clustermap(loan_correlation, annot=True, figsize=(12, 8),cmap=\"BrBG\")\n",
    "plt.show()"
   ]
  },
  {
   "cell_type": "code",
   "execution_count": null,
   "metadata": {},
   "outputs": [],
   "source": [
    "lending_case.isnull().sum()"
   ]
  },
  {
   "cell_type": "code",
   "execution_count": null,
   "metadata": {},
   "outputs": [],
   "source": []
  },
  {
   "cell_type": "code",
   "execution_count": null,
   "metadata": {},
   "outputs": [],
   "source": []
  },
  {
   "cell_type": "code",
   "execution_count": null,
   "metadata": {},
   "outputs": [],
   "source": []
  },
  {
   "cell_type": "code",
   "execution_count": null,
   "metadata": {},
   "outputs": [],
   "source": []
  },
  {
   "cell_type": "code",
   "execution_count": null,
   "metadata": {},
   "outputs": [],
   "source": []
  },
  {
   "cell_type": "code",
   "execution_count": null,
   "metadata": {},
   "outputs": [],
   "source": []
  },
  {
   "cell_type": "code",
   "execution_count": null,
   "metadata": {},
   "outputs": [],
   "source": []
  },
  {
   "cell_type": "code",
   "execution_count": null,
   "metadata": {},
   "outputs": [],
   "source": []
  },
  {
   "cell_type": "code",
   "execution_count": null,
   "metadata": {},
   "outputs": [],
   "source": []
  },
  {
   "cell_type": "code",
   "execution_count": null,
   "metadata": {},
   "outputs": [],
   "source": []
  },
  {
   "cell_type": "code",
   "execution_count": null,
   "metadata": {},
   "outputs": [],
   "source": []
  }
 ],
 "metadata": {
  "kernelspec": {
   "display_name": "Python 3",
   "language": "python",
   "name": "python3"
  },
  "language_info": {
   "codemirror_mode": {
    "name": "ipython",
    "version": 3
   },
   "file_extension": ".py",
   "mimetype": "text/x-python",
   "name": "python",
   "nbconvert_exporter": "python",
   "pygments_lexer": "ipython3",
   "version": "3.7.6"
  }
 },
 "nbformat": 4,
 "nbformat_minor": 4
}
